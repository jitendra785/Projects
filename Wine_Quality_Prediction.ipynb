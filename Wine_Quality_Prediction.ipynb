{
 "cells": [
  {
   "cell_type": "markdown",
   "id": "31a41208",
   "metadata": {},
   "source": [
    "# Project On Wine_Quality_Prediction\n",
    "\n",
    "## By:- Jitendra Sanjay Bhavsar"
   ]
  },
  {
   "cell_type": "markdown",
   "id": "aa6c673f",
   "metadata": {},
   "source": [
    "## Import Libraries"
   ]
  },
  {
   "cell_type": "code",
   "execution_count": 1,
   "id": "0626b7e6",
   "metadata": {},
   "outputs": [],
   "source": [
    "import numpy as np\n",
    "import pandas as pd\n",
    "import matplotlib.pyplot as plt\n",
    "import seaborn as sns"
   ]
  },
  {
   "cell_type": "markdown",
   "id": "205fa5e6",
   "metadata": {},
   "source": [
    "## Import Dataset"
   ]
  },
  {
   "cell_type": "code",
   "execution_count": 2,
   "id": "6b1fd502",
   "metadata": {},
   "outputs": [
    {
     "data": {
      "text/html": [
       "<div>\n",
       "<style scoped>\n",
       "    .dataframe tbody tr th:only-of-type {\n",
       "        vertical-align: middle;\n",
       "    }\n",
       "\n",
       "    .dataframe tbody tr th {\n",
       "        vertical-align: top;\n",
       "    }\n",
       "\n",
       "    .dataframe thead th {\n",
       "        text-align: right;\n",
       "    }\n",
       "</style>\n",
       "<table border=\"1\" class=\"dataframe\">\n",
       "  <thead>\n",
       "    <tr style=\"text-align: right;\">\n",
       "      <th></th>\n",
       "      <th>type</th>\n",
       "      <th>fixed acidity</th>\n",
       "      <th>volatile acidity</th>\n",
       "      <th>citric acid</th>\n",
       "      <th>residual sugar</th>\n",
       "      <th>chlorides</th>\n",
       "      <th>free sulfur dioxide</th>\n",
       "      <th>total sulfur dioxide</th>\n",
       "      <th>density</th>\n",
       "      <th>pH</th>\n",
       "      <th>sulphates</th>\n",
       "      <th>alcohol</th>\n",
       "      <th>quality</th>\n",
       "    </tr>\n",
       "  </thead>\n",
       "  <tbody>\n",
       "    <tr>\n",
       "      <th>0</th>\n",
       "      <td>white</td>\n",
       "      <td>7.0</td>\n",
       "      <td>0.270</td>\n",
       "      <td>0.36</td>\n",
       "      <td>20.7</td>\n",
       "      <td>0.045</td>\n",
       "      <td>45.0</td>\n",
       "      <td>170.0</td>\n",
       "      <td>1.00100</td>\n",
       "      <td>3.00</td>\n",
       "      <td>0.45</td>\n",
       "      <td>8.8</td>\n",
       "      <td>6</td>\n",
       "    </tr>\n",
       "    <tr>\n",
       "      <th>1</th>\n",
       "      <td>white</td>\n",
       "      <td>6.3</td>\n",
       "      <td>0.300</td>\n",
       "      <td>0.34</td>\n",
       "      <td>1.6</td>\n",
       "      <td>0.049</td>\n",
       "      <td>14.0</td>\n",
       "      <td>132.0</td>\n",
       "      <td>0.99400</td>\n",
       "      <td>3.30</td>\n",
       "      <td>0.49</td>\n",
       "      <td>9.5</td>\n",
       "      <td>6</td>\n",
       "    </tr>\n",
       "    <tr>\n",
       "      <th>2</th>\n",
       "      <td>white</td>\n",
       "      <td>8.1</td>\n",
       "      <td>0.280</td>\n",
       "      <td>0.40</td>\n",
       "      <td>6.9</td>\n",
       "      <td>0.050</td>\n",
       "      <td>30.0</td>\n",
       "      <td>97.0</td>\n",
       "      <td>0.99510</td>\n",
       "      <td>3.26</td>\n",
       "      <td>0.44</td>\n",
       "      <td>10.1</td>\n",
       "      <td>6</td>\n",
       "    </tr>\n",
       "    <tr>\n",
       "      <th>3</th>\n",
       "      <td>white</td>\n",
       "      <td>7.2</td>\n",
       "      <td>0.230</td>\n",
       "      <td>0.32</td>\n",
       "      <td>8.5</td>\n",
       "      <td>0.058</td>\n",
       "      <td>47.0</td>\n",
       "      <td>186.0</td>\n",
       "      <td>0.99560</td>\n",
       "      <td>3.19</td>\n",
       "      <td>0.40</td>\n",
       "      <td>9.9</td>\n",
       "      <td>6</td>\n",
       "    </tr>\n",
       "    <tr>\n",
       "      <th>4</th>\n",
       "      <td>white</td>\n",
       "      <td>7.2</td>\n",
       "      <td>0.230</td>\n",
       "      <td>0.32</td>\n",
       "      <td>8.5</td>\n",
       "      <td>0.058</td>\n",
       "      <td>47.0</td>\n",
       "      <td>186.0</td>\n",
       "      <td>0.99560</td>\n",
       "      <td>3.19</td>\n",
       "      <td>0.40</td>\n",
       "      <td>9.9</td>\n",
       "      <td>6</td>\n",
       "    </tr>\n",
       "    <tr>\n",
       "      <th>...</th>\n",
       "      <td>...</td>\n",
       "      <td>...</td>\n",
       "      <td>...</td>\n",
       "      <td>...</td>\n",
       "      <td>...</td>\n",
       "      <td>...</td>\n",
       "      <td>...</td>\n",
       "      <td>...</td>\n",
       "      <td>...</td>\n",
       "      <td>...</td>\n",
       "      <td>...</td>\n",
       "      <td>...</td>\n",
       "      <td>...</td>\n",
       "    </tr>\n",
       "    <tr>\n",
       "      <th>6492</th>\n",
       "      <td>red</td>\n",
       "      <td>6.2</td>\n",
       "      <td>0.600</td>\n",
       "      <td>0.08</td>\n",
       "      <td>2.0</td>\n",
       "      <td>0.090</td>\n",
       "      <td>32.0</td>\n",
       "      <td>44.0</td>\n",
       "      <td>0.99490</td>\n",
       "      <td>3.45</td>\n",
       "      <td>0.58</td>\n",
       "      <td>10.5</td>\n",
       "      <td>5</td>\n",
       "    </tr>\n",
       "    <tr>\n",
       "      <th>6493</th>\n",
       "      <td>red</td>\n",
       "      <td>5.9</td>\n",
       "      <td>0.550</td>\n",
       "      <td>0.10</td>\n",
       "      <td>2.2</td>\n",
       "      <td>0.062</td>\n",
       "      <td>39.0</td>\n",
       "      <td>51.0</td>\n",
       "      <td>0.99512</td>\n",
       "      <td>3.52</td>\n",
       "      <td>NaN</td>\n",
       "      <td>11.2</td>\n",
       "      <td>6</td>\n",
       "    </tr>\n",
       "    <tr>\n",
       "      <th>6494</th>\n",
       "      <td>red</td>\n",
       "      <td>6.3</td>\n",
       "      <td>0.510</td>\n",
       "      <td>0.13</td>\n",
       "      <td>2.3</td>\n",
       "      <td>0.076</td>\n",
       "      <td>29.0</td>\n",
       "      <td>40.0</td>\n",
       "      <td>0.99574</td>\n",
       "      <td>3.42</td>\n",
       "      <td>0.75</td>\n",
       "      <td>11.0</td>\n",
       "      <td>6</td>\n",
       "    </tr>\n",
       "    <tr>\n",
       "      <th>6495</th>\n",
       "      <td>red</td>\n",
       "      <td>5.9</td>\n",
       "      <td>0.645</td>\n",
       "      <td>0.12</td>\n",
       "      <td>2.0</td>\n",
       "      <td>0.075</td>\n",
       "      <td>32.0</td>\n",
       "      <td>44.0</td>\n",
       "      <td>0.99547</td>\n",
       "      <td>3.57</td>\n",
       "      <td>0.71</td>\n",
       "      <td>10.2</td>\n",
       "      <td>5</td>\n",
       "    </tr>\n",
       "    <tr>\n",
       "      <th>6496</th>\n",
       "      <td>red</td>\n",
       "      <td>6.0</td>\n",
       "      <td>0.310</td>\n",
       "      <td>0.47</td>\n",
       "      <td>3.6</td>\n",
       "      <td>0.067</td>\n",
       "      <td>18.0</td>\n",
       "      <td>42.0</td>\n",
       "      <td>0.99549</td>\n",
       "      <td>3.39</td>\n",
       "      <td>0.66</td>\n",
       "      <td>11.0</td>\n",
       "      <td>6</td>\n",
       "    </tr>\n",
       "  </tbody>\n",
       "</table>\n",
       "<p>6497 rows × 13 columns</p>\n",
       "</div>"
      ],
      "text/plain": [
       "       type  fixed acidity  volatile acidity  citric acid  residual sugar  \\\n",
       "0     white            7.0             0.270         0.36            20.7   \n",
       "1     white            6.3             0.300         0.34             1.6   \n",
       "2     white            8.1             0.280         0.40             6.9   \n",
       "3     white            7.2             0.230         0.32             8.5   \n",
       "4     white            7.2             0.230         0.32             8.5   \n",
       "...     ...            ...               ...          ...             ...   \n",
       "6492    red            6.2             0.600         0.08             2.0   \n",
       "6493    red            5.9             0.550         0.10             2.2   \n",
       "6494    red            6.3             0.510         0.13             2.3   \n",
       "6495    red            5.9             0.645         0.12             2.0   \n",
       "6496    red            6.0             0.310         0.47             3.6   \n",
       "\n",
       "      chlorides  free sulfur dioxide  total sulfur dioxide  density    pH  \\\n",
       "0         0.045                 45.0                 170.0  1.00100  3.00   \n",
       "1         0.049                 14.0                 132.0  0.99400  3.30   \n",
       "2         0.050                 30.0                  97.0  0.99510  3.26   \n",
       "3         0.058                 47.0                 186.0  0.99560  3.19   \n",
       "4         0.058                 47.0                 186.0  0.99560  3.19   \n",
       "...         ...                  ...                   ...      ...   ...   \n",
       "6492      0.090                 32.0                  44.0  0.99490  3.45   \n",
       "6493      0.062                 39.0                  51.0  0.99512  3.52   \n",
       "6494      0.076                 29.0                  40.0  0.99574  3.42   \n",
       "6495      0.075                 32.0                  44.0  0.99547  3.57   \n",
       "6496      0.067                 18.0                  42.0  0.99549  3.39   \n",
       "\n",
       "      sulphates  alcohol  quality  \n",
       "0          0.45      8.8        6  \n",
       "1          0.49      9.5        6  \n",
       "2          0.44     10.1        6  \n",
       "3          0.40      9.9        6  \n",
       "4          0.40      9.9        6  \n",
       "...         ...      ...      ...  \n",
       "6492       0.58     10.5        5  \n",
       "6493        NaN     11.2        6  \n",
       "6494       0.75     11.0        6  \n",
       "6495       0.71     10.2        5  \n",
       "6496       0.66     11.0        6  \n",
       "\n",
       "[6497 rows x 13 columns]"
      ]
     },
     "execution_count": 2,
     "metadata": {},
     "output_type": "execute_result"
    }
   ],
   "source": [
    "data=pd.read_csv(r\"C:\\Users\\Admin\\Downloads\\Wine_Quality_Dataset.csv\")\n",
    "data"
   ]
  },
  {
   "cell_type": "code",
   "execution_count": 3,
   "id": "ac0c1754",
   "metadata": {},
   "outputs": [
    {
     "name": "stdout",
     "output_type": "stream",
     "text": [
      "<class 'pandas.core.frame.DataFrame'>\n",
      "RangeIndex: 6497 entries, 0 to 6496\n",
      "Data columns (total 13 columns):\n",
      " #   Column                Non-Null Count  Dtype  \n",
      "---  ------                --------------  -----  \n",
      " 0   type                  6497 non-null   object \n",
      " 1   fixed acidity         6487 non-null   float64\n",
      " 2   volatile acidity      6489 non-null   float64\n",
      " 3   citric acid           6494 non-null   float64\n",
      " 4   residual sugar        6495 non-null   float64\n",
      " 5   chlorides             6495 non-null   float64\n",
      " 6   free sulfur dioxide   6497 non-null   float64\n",
      " 7   total sulfur dioxide  6497 non-null   float64\n",
      " 8   density               6497 non-null   float64\n",
      " 9   pH                    6488 non-null   float64\n",
      " 10  sulphates             6493 non-null   float64\n",
      " 11  alcohol               6497 non-null   float64\n",
      " 12  quality               6497 non-null   int64  \n",
      "dtypes: float64(11), int64(1), object(1)\n",
      "memory usage: 660.0+ KB\n"
     ]
    }
   ],
   "source": [
    "data.info()"
   ]
  },
  {
   "cell_type": "markdown",
   "id": "183c3917",
   "metadata": {},
   "source": [
    "## Data Preprocessing"
   ]
  },
  {
   "cell_type": "markdown",
   "id": "dc76fb11",
   "metadata": {},
   "source": [
    "### 1) Object Feature Transform Into Integer"
   ]
  },
  {
   "cell_type": "code",
   "execution_count": 4,
   "id": "52f357e1",
   "metadata": {},
   "outputs": [
    {
     "data": {
      "text/plain": [
       "array(['white', 'red'], dtype=object)"
      ]
     },
     "execution_count": 4,
     "metadata": {},
     "output_type": "execute_result"
    }
   ],
   "source": [
    "data[\"type\"].unique()\n"
   ]
  },
  {
   "cell_type": "code",
   "execution_count": 5,
   "id": "5638d23b",
   "metadata": {},
   "outputs": [],
   "source": [
    "data[\"type\"] = data[\"type\"].map({'white':1,'red':2})"
   ]
  },
  {
   "cell_type": "code",
   "execution_count": 6,
   "id": "330303dd",
   "metadata": {},
   "outputs": [
    {
     "data": {
      "text/html": [
       "<div>\n",
       "<style scoped>\n",
       "    .dataframe tbody tr th:only-of-type {\n",
       "        vertical-align: middle;\n",
       "    }\n",
       "\n",
       "    .dataframe tbody tr th {\n",
       "        vertical-align: top;\n",
       "    }\n",
       "\n",
       "    .dataframe thead th {\n",
       "        text-align: right;\n",
       "    }\n",
       "</style>\n",
       "<table border=\"1\" class=\"dataframe\">\n",
       "  <thead>\n",
       "    <tr style=\"text-align: right;\">\n",
       "      <th></th>\n",
       "      <th>type</th>\n",
       "      <th>fixed acidity</th>\n",
       "      <th>volatile acidity</th>\n",
       "      <th>citric acid</th>\n",
       "      <th>residual sugar</th>\n",
       "      <th>chlorides</th>\n",
       "      <th>free sulfur dioxide</th>\n",
       "      <th>total sulfur dioxide</th>\n",
       "      <th>density</th>\n",
       "      <th>pH</th>\n",
       "      <th>sulphates</th>\n",
       "      <th>alcohol</th>\n",
       "      <th>quality</th>\n",
       "    </tr>\n",
       "  </thead>\n",
       "  <tbody>\n",
       "    <tr>\n",
       "      <th>0</th>\n",
       "      <td>1</td>\n",
       "      <td>7.0</td>\n",
       "      <td>0.270</td>\n",
       "      <td>0.36</td>\n",
       "      <td>20.7</td>\n",
       "      <td>0.045</td>\n",
       "      <td>45.0</td>\n",
       "      <td>170.0</td>\n",
       "      <td>1.00100</td>\n",
       "      <td>3.00</td>\n",
       "      <td>0.45</td>\n",
       "      <td>8.8</td>\n",
       "      <td>6</td>\n",
       "    </tr>\n",
       "    <tr>\n",
       "      <th>1</th>\n",
       "      <td>1</td>\n",
       "      <td>6.3</td>\n",
       "      <td>0.300</td>\n",
       "      <td>0.34</td>\n",
       "      <td>1.6</td>\n",
       "      <td>0.049</td>\n",
       "      <td>14.0</td>\n",
       "      <td>132.0</td>\n",
       "      <td>0.99400</td>\n",
       "      <td>3.30</td>\n",
       "      <td>0.49</td>\n",
       "      <td>9.5</td>\n",
       "      <td>6</td>\n",
       "    </tr>\n",
       "    <tr>\n",
       "      <th>2</th>\n",
       "      <td>1</td>\n",
       "      <td>8.1</td>\n",
       "      <td>0.280</td>\n",
       "      <td>0.40</td>\n",
       "      <td>6.9</td>\n",
       "      <td>0.050</td>\n",
       "      <td>30.0</td>\n",
       "      <td>97.0</td>\n",
       "      <td>0.99510</td>\n",
       "      <td>3.26</td>\n",
       "      <td>0.44</td>\n",
       "      <td>10.1</td>\n",
       "      <td>6</td>\n",
       "    </tr>\n",
       "    <tr>\n",
       "      <th>3</th>\n",
       "      <td>1</td>\n",
       "      <td>7.2</td>\n",
       "      <td>0.230</td>\n",
       "      <td>0.32</td>\n",
       "      <td>8.5</td>\n",
       "      <td>0.058</td>\n",
       "      <td>47.0</td>\n",
       "      <td>186.0</td>\n",
       "      <td>0.99560</td>\n",
       "      <td>3.19</td>\n",
       "      <td>0.40</td>\n",
       "      <td>9.9</td>\n",
       "      <td>6</td>\n",
       "    </tr>\n",
       "    <tr>\n",
       "      <th>4</th>\n",
       "      <td>1</td>\n",
       "      <td>7.2</td>\n",
       "      <td>0.230</td>\n",
       "      <td>0.32</td>\n",
       "      <td>8.5</td>\n",
       "      <td>0.058</td>\n",
       "      <td>47.0</td>\n",
       "      <td>186.0</td>\n",
       "      <td>0.99560</td>\n",
       "      <td>3.19</td>\n",
       "      <td>0.40</td>\n",
       "      <td>9.9</td>\n",
       "      <td>6</td>\n",
       "    </tr>\n",
       "    <tr>\n",
       "      <th>...</th>\n",
       "      <td>...</td>\n",
       "      <td>...</td>\n",
       "      <td>...</td>\n",
       "      <td>...</td>\n",
       "      <td>...</td>\n",
       "      <td>...</td>\n",
       "      <td>...</td>\n",
       "      <td>...</td>\n",
       "      <td>...</td>\n",
       "      <td>...</td>\n",
       "      <td>...</td>\n",
       "      <td>...</td>\n",
       "      <td>...</td>\n",
       "    </tr>\n",
       "    <tr>\n",
       "      <th>6492</th>\n",
       "      <td>2</td>\n",
       "      <td>6.2</td>\n",
       "      <td>0.600</td>\n",
       "      <td>0.08</td>\n",
       "      <td>2.0</td>\n",
       "      <td>0.090</td>\n",
       "      <td>32.0</td>\n",
       "      <td>44.0</td>\n",
       "      <td>0.99490</td>\n",
       "      <td>3.45</td>\n",
       "      <td>0.58</td>\n",
       "      <td>10.5</td>\n",
       "      <td>5</td>\n",
       "    </tr>\n",
       "    <tr>\n",
       "      <th>6493</th>\n",
       "      <td>2</td>\n",
       "      <td>5.9</td>\n",
       "      <td>0.550</td>\n",
       "      <td>0.10</td>\n",
       "      <td>2.2</td>\n",
       "      <td>0.062</td>\n",
       "      <td>39.0</td>\n",
       "      <td>51.0</td>\n",
       "      <td>0.99512</td>\n",
       "      <td>3.52</td>\n",
       "      <td>NaN</td>\n",
       "      <td>11.2</td>\n",
       "      <td>6</td>\n",
       "    </tr>\n",
       "    <tr>\n",
       "      <th>6494</th>\n",
       "      <td>2</td>\n",
       "      <td>6.3</td>\n",
       "      <td>0.510</td>\n",
       "      <td>0.13</td>\n",
       "      <td>2.3</td>\n",
       "      <td>0.076</td>\n",
       "      <td>29.0</td>\n",
       "      <td>40.0</td>\n",
       "      <td>0.99574</td>\n",
       "      <td>3.42</td>\n",
       "      <td>0.75</td>\n",
       "      <td>11.0</td>\n",
       "      <td>6</td>\n",
       "    </tr>\n",
       "    <tr>\n",
       "      <th>6495</th>\n",
       "      <td>2</td>\n",
       "      <td>5.9</td>\n",
       "      <td>0.645</td>\n",
       "      <td>0.12</td>\n",
       "      <td>2.0</td>\n",
       "      <td>0.075</td>\n",
       "      <td>32.0</td>\n",
       "      <td>44.0</td>\n",
       "      <td>0.99547</td>\n",
       "      <td>3.57</td>\n",
       "      <td>0.71</td>\n",
       "      <td>10.2</td>\n",
       "      <td>5</td>\n",
       "    </tr>\n",
       "    <tr>\n",
       "      <th>6496</th>\n",
       "      <td>2</td>\n",
       "      <td>6.0</td>\n",
       "      <td>0.310</td>\n",
       "      <td>0.47</td>\n",
       "      <td>3.6</td>\n",
       "      <td>0.067</td>\n",
       "      <td>18.0</td>\n",
       "      <td>42.0</td>\n",
       "      <td>0.99549</td>\n",
       "      <td>3.39</td>\n",
       "      <td>0.66</td>\n",
       "      <td>11.0</td>\n",
       "      <td>6</td>\n",
       "    </tr>\n",
       "  </tbody>\n",
       "</table>\n",
       "<p>6497 rows × 13 columns</p>\n",
       "</div>"
      ],
      "text/plain": [
       "      type  fixed acidity  volatile acidity  citric acid  residual sugar  \\\n",
       "0        1            7.0             0.270         0.36            20.7   \n",
       "1        1            6.3             0.300         0.34             1.6   \n",
       "2        1            8.1             0.280         0.40             6.9   \n",
       "3        1            7.2             0.230         0.32             8.5   \n",
       "4        1            7.2             0.230         0.32             8.5   \n",
       "...    ...            ...               ...          ...             ...   \n",
       "6492     2            6.2             0.600         0.08             2.0   \n",
       "6493     2            5.9             0.550         0.10             2.2   \n",
       "6494     2            6.3             0.510         0.13             2.3   \n",
       "6495     2            5.9             0.645         0.12             2.0   \n",
       "6496     2            6.0             0.310         0.47             3.6   \n",
       "\n",
       "      chlorides  free sulfur dioxide  total sulfur dioxide  density    pH  \\\n",
       "0         0.045                 45.0                 170.0  1.00100  3.00   \n",
       "1         0.049                 14.0                 132.0  0.99400  3.30   \n",
       "2         0.050                 30.0                  97.0  0.99510  3.26   \n",
       "3         0.058                 47.0                 186.0  0.99560  3.19   \n",
       "4         0.058                 47.0                 186.0  0.99560  3.19   \n",
       "...         ...                  ...                   ...      ...   ...   \n",
       "6492      0.090                 32.0                  44.0  0.99490  3.45   \n",
       "6493      0.062                 39.0                  51.0  0.99512  3.52   \n",
       "6494      0.076                 29.0                  40.0  0.99574  3.42   \n",
       "6495      0.075                 32.0                  44.0  0.99547  3.57   \n",
       "6496      0.067                 18.0                  42.0  0.99549  3.39   \n",
       "\n",
       "      sulphates  alcohol  quality  \n",
       "0          0.45      8.8        6  \n",
       "1          0.49      9.5        6  \n",
       "2          0.44     10.1        6  \n",
       "3          0.40      9.9        6  \n",
       "4          0.40      9.9        6  \n",
       "...         ...      ...      ...  \n",
       "6492       0.58     10.5        5  \n",
       "6493        NaN     11.2        6  \n",
       "6494       0.75     11.0        6  \n",
       "6495       0.71     10.2        5  \n",
       "6496       0.66     11.0        6  \n",
       "\n",
       "[6497 rows x 13 columns]"
      ]
     },
     "execution_count": 6,
     "metadata": {},
     "output_type": "execute_result"
    }
   ],
   "source": [
    "data"
   ]
  },
  {
   "cell_type": "markdown",
   "id": "e5722898",
   "metadata": {},
   "source": [
    "### 2) Fill Null Values"
   ]
  },
  {
   "cell_type": "code",
   "execution_count": 7,
   "id": "d8d4ae73",
   "metadata": {},
   "outputs": [
    {
     "data": {
      "text/plain": [
       "type                     0\n",
       "fixed acidity           10\n",
       "volatile acidity         8\n",
       "citric acid              3\n",
       "residual sugar           2\n",
       "chlorides                2\n",
       "free sulfur dioxide      0\n",
       "total sulfur dioxide     0\n",
       "density                  0\n",
       "pH                       9\n",
       "sulphates                4\n",
       "alcohol                  0\n",
       "quality                  0\n",
       "dtype: int64"
      ]
     },
     "execution_count": 7,
     "metadata": {},
     "output_type": "execute_result"
    }
   ],
   "source": [
    "data.isnull().sum()"
   ]
  },
  {
   "cell_type": "code",
   "execution_count": 8,
   "id": "55ae04cd",
   "metadata": {},
   "outputs": [],
   "source": [
    "data[\"fixed acidity\"]=data[\"fixed acidity\"].ffill()   # bfill()   # data.fillna(mean,inplace=True)\n",
    "data[\"volatile acidity\"]=data[\"volatile acidity\"].ffill()\n",
    "data[\"citric acid\"]=data[\"citric acid\"].ffill()\n",
    "data[\"residual sugar\"]=data[\"residual sugar\"].ffill()\n",
    "data[\"chlorides\"]=data[\"chlorides\"].ffill()\n",
    "data[\"pH\"]=data[\"pH\"].ffill()\n",
    "data[\"sulphates\"]=data[\"sulphates\"].ffill()"
   ]
  },
  {
   "cell_type": "code",
   "execution_count": 9,
   "id": "11412473",
   "metadata": {},
   "outputs": [
    {
     "data": {
      "text/plain": [
       "type                    0\n",
       "fixed acidity           0\n",
       "volatile acidity        0\n",
       "citric acid             0\n",
       "residual sugar          0\n",
       "chlorides               0\n",
       "free sulfur dioxide     0\n",
       "total sulfur dioxide    0\n",
       "density                 0\n",
       "pH                      0\n",
       "sulphates               0\n",
       "alcohol                 0\n",
       "quality                 0\n",
       "dtype: int64"
      ]
     },
     "execution_count": 9,
     "metadata": {},
     "output_type": "execute_result"
    }
   ],
   "source": [
    "data.isnull().sum()"
   ]
  },
  {
   "cell_type": "markdown",
   "id": "54aa000f",
   "metadata": {},
   "source": [
    "### 3) To Check Correlation between Feature"
   ]
  },
  {
   "cell_type": "code",
   "execution_count": 10,
   "id": "5f2d7913",
   "metadata": {},
   "outputs": [
    {
     "data": {
      "text/plain": [
       "<AxesSubplot: >"
      ]
     },
     "execution_count": 10,
     "metadata": {},
     "output_type": "execute_result"
    },
    {
     "data": {
      "image/png": "[encoded data removed]",
      "text/plain": [
       "<Figure size 864x864 with 2 Axes>"
      ]
     },
     "metadata": {
      "needs_background": "light"
     },
     "output_type": "display_data"
    }
   ],
   "source": [
    "plt.figure(figsize=[12,12])\n",
    "\n",
    "sns.heatmap(data.corr(), annot=True)"
   ]
  },
  {
   "cell_type": "code",
   "execution_count": 11,
   "id": "7b06b519",
   "metadata": {},
   "outputs": [],
   "source": [
    "data1= data.loc[(data[\"quality\"]!=9)]"
   ]
  },
  {
   "cell_type": "markdown",
   "id": "bf362547",
   "metadata": {},
   "source": [
    "### 4) Data Slicing"
   ]
  },
  {
   "cell_type": "code",
   "execution_count": 12,
   "id": "667338ca",
   "metadata": {},
   "outputs": [],
   "source": [
    "x1=data1.iloc[:,:-1]  # Indpt  #slicing independent and depedent variables.\n",
    "y1=data1.iloc[:,-1]"
   ]
  },
  {
   "cell_type": "markdown",
   "id": "abfb100b",
   "metadata": {},
   "source": [
    "### 5) Data Balancing"
   ]
  },
  {
   "cell_type": "code",
   "execution_count": 13,
   "id": "5fb0887d",
   "metadata": {},
   "outputs": [
    {
     "name": "stdout",
     "output_type": "stream",
     "text": [
      "Counter({6: 2836, 5: 2138, 7: 1079, 4: 216, 8: 193, 3: 30})\n"
     ]
    }
   ],
   "source": [
    "from collections import Counter\n",
    "print(Counter(y1))"
   ]
  },
  {
   "cell_type": "code",
   "execution_count": 14,
   "id": "d7877edf",
   "metadata": {},
   "outputs": [],
   "source": [
    "from imblearn.over_sampling import SMOTE\n",
    "strategy = {6: 2836, 5: 2836, 7: 2836, 4: 2836, 8: 2836, 3: 2836}\n",
    "smote1=SMOTE(sampling_strategy=strategy)\n",
    "x_data,y_data=smote1.fit_resample(x1,y1)\n",
    "\n",
    "# Benifit == Prevent from data duplication or Redundency"
   ]
  },
  {
   "cell_type": "code",
   "execution_count": 15,
   "id": "a50a7c6f",
   "metadata": {},
   "outputs": [
    {
     "name": "stdout",
     "output_type": "stream",
     "text": [
      "Counter({6: 2836, 5: 2836, 7: 2836, 8: 2836, 4: 2836, 3: 2836})\n"
     ]
    }
   ],
   "source": [
    "from collections import Counter\n",
    "print(Counter(y_data))"
   ]
  },
  {
   "cell_type": "markdown",
   "id": "f7e813e3",
   "metadata": {},
   "source": [
    "### 6) To Check Distribution Of the dataset"
   ]
  },
  {
   "cell_type": "code",
   "execution_count": 16,
   "id": "7b944307",
   "metadata": {},
   "outputs": [
    {
     "data": {
      "image/png": "[encoded data removed]",
      "text/plain": [
       "<Figure size 720x720 with 16 Axes>"
      ]
     },
     "metadata": {
      "needs_background": "light"
     },
     "output_type": "display_data"
    }
   ],
   "source": [
    "data1.hist(bins=25, figsize=(10,10))\n",
    "plt.show()"
   ]
  },
  {
   "cell_type": "markdown",
   "id": "e0057e50",
   "metadata": {},
   "source": [
    "#### From the above the major histograms is look like bell shape. \n",
    "#### So we can conclude that the dataset is follows gaussin Distribution.\n",
    "#### That is the reason we can used Standardization."
   ]
  },
  {
   "cell_type": "code",
   "execution_count": 17,
   "id": "21c77b8b",
   "metadata": {},
   "outputs": [
    {
     "data": {
      "text/plain": [
       "array([-0.50511874,  0.68428382, -0.46845355,  0.68102893,  0.40802114,\n",
       "       -0.2022763 ,  0.00824609, -0.25400198,  0.22036312,  0.19887181,\n",
       "       -0.59886172, -0.43477065])"
      ]
     },
     "execution_count": 17,
     "metadata": {},
     "output_type": "execute_result"
    }
   ],
   "source": [
    "###  Standardization                \n",
    "from sklearn.preprocessing import StandardScaler  \n",
    "ss=StandardScaler()\n",
    "x_data1=ss.fit_transform(x_data)\n",
    "x_data1[5,:]"
   ]
  },
  {
   "cell_type": "code",
   "execution_count": 18,
   "id": "44f87c6a",
   "metadata": {},
   "outputs": [
    {
     "data": {
      "text/plain": [
       "15.305020959222258"
      ]
     },
     "execution_count": 18,
     "metadata": {},
     "output_type": "execute_result"
    }
   ],
   "source": [
    "x_data1.max()    # Max value after Standardization"
   ]
  },
  {
   "cell_type": "code",
   "execution_count": 19,
   "id": "1d2b0bb9",
   "metadata": {},
   "outputs": [
    {
     "data": {
      "text/plain": [
       "-3.208133658040716"
      ]
     },
     "execution_count": 19,
     "metadata": {},
     "output_type": "execute_result"
    }
   ],
   "source": [
    "x_data1.min()    # Min value after Standardization"
   ]
  },
  {
   "cell_type": "markdown",
   "id": "53321b65",
   "metadata": {},
   "source": [
    "## Model Training"
   ]
  },
  {
   "cell_type": "code",
   "execution_count": 20,
   "id": "0f94948d",
   "metadata": {},
   "outputs": [],
   "source": [
    "# Spliting data into training testing\n",
    "from sklearn.model_selection import train_test_split\n",
    "x_train, x_test, y_train, y_test = train_test_split(x_data1,y_data,test_size=0.30, random_state=12)"
   ]
  },
  {
   "cell_type": "markdown",
   "id": "cacdcad7",
   "metadata": {},
   "source": [
    "## Without Using Cross Validation"
   ]
  },
  {
   "cell_type": "markdown",
   "id": "f3ca7341",
   "metadata": {},
   "source": [
    "## 1) KNN"
   ]
  },
  {
   "cell_type": "code",
   "execution_count": 21,
   "id": "5651cb55",
   "metadata": {},
   "outputs": [
    {
     "data": {
      "text/html": [
       "<style>#sk-container-id-1 {color: black;background-color: white;}#sk-container-id-1 pre{padding: 0;}#sk-container-id-1 div.sk-toggleable {background-color: white;}#sk-container-id-1 label.sk-toggleable__label {cursor: pointer;display: block;width: 100%;margin-bottom: 0;padding: 0.3em;box-sizing: border-box;text-align: center;}#sk-container-id-1 label.sk-toggleable__label-arrow:before {content: \"▸\";float: left;margin-right: 0.25em;color: #696969;}#sk-container-id-1 label.sk-toggleable__label-arrow:hover:before {color: black;}#sk-container-id-1 div.sk-estimator:hover label.sk-toggleable__label-arrow:before {color: black;}#sk-container-id-1 div.sk-toggleable__content {max-height: 0;max-width: 0;overflow: hidden;text-align: left;background-color: #f0f8ff;}#sk-container-id-1 div.sk-toggleable__content pre {margin: 0.2em;color: black;border-radius: 0.25em;background-color: #f0f8ff;}#sk-container-id-1 input.sk-toggleable__control:checked~div.sk-toggleable__content {max-height: 200px;max-width: 100%;overflow: auto;}#sk-container-id-1 input.sk-toggleable__control:checked~label.sk-toggleable__label-arrow:before {content: \"▾\";}#sk-container-id-1 div.sk-estimator input.sk-toggleable__control:checked~label.sk-toggleable__label {background-color: #d4ebff;}#sk-container-id-1 div.sk-label input.sk-toggleable__control:checked~label.sk-toggleable__label {background-color: #d4ebff;}#sk-container-id-1 input.sk-hidden--visually {border: 0;clip: rect(1px 1px 1px 1px);clip: rect(1px, 1px, 1px, 1px);height: 1px;margin: -1px;overflow: hidden;padding: 0;position: absolute;width: 1px;}#sk-container-id-1 div.sk-estimator {font-family: monospace;background-color: #f0f8ff;border: 1px dotted black;border-radius: 0.25em;box-sizing: border-box;margin-bottom: 0.5em;}#sk-container-id-1 div.sk-estimator:hover {background-color: #d4ebff;}#sk-container-id-1 div.sk-parallel-item::after {content: \"\";width: 100%;border-bottom: 1px solid gray;flex-grow: 1;}#sk-container-id-1 div.sk-label:hover label.sk-toggleable__label {background-color: #d4ebff;}#sk-container-id-1 div.sk-serial::before {content: \"\";position: absolute;border-left: 1px solid gray;box-sizing: border-box;top: 0;bottom: 0;left: 50%;z-index: 0;}#sk-container-id-1 div.sk-serial {display: flex;flex-direction: column;align-items: center;background-color: white;padding-right: 0.2em;padding-left: 0.2em;position: relative;}#sk-container-id-1 div.sk-item {position: relative;z-index: 1;}#sk-container-id-1 div.sk-parallel {display: flex;align-items: stretch;justify-content: center;background-color: white;position: relative;}#sk-container-id-1 div.sk-item::before, #sk-container-id-1 div.sk-parallel-item::before {content: \"\";position: absolute;border-left: 1px solid gray;box-sizing: border-box;top: 0;bottom: 0;left: 50%;z-index: -1;}#sk-container-id-1 div.sk-parallel-item {display: flex;flex-direction: column;z-index: 1;position: relative;background-color: white;}#sk-container-id-1 div.sk-parallel-item:first-child::after {align-self: flex-end;width: 50%;}#sk-container-id-1 div.sk-parallel-item:last-child::after {align-self: flex-start;width: 50%;}#sk-container-id-1 div.sk-parallel-item:only-child::after {width: 0;}#sk-container-id-1 div.sk-dashed-wrapped {border: 1px dashed gray;margin: 0 0.4em 0.5em 0.4em;box-sizing: border-box;padding-bottom: 0.4em;background-color: white;}#sk-container-id-1 div.sk-label label {font-family: monospace;font-weight: bold;display: inline-block;line-height: 1.2em;}#sk-container-id-1 div.sk-label-container {text-align: center;}#sk-container-id-1 div.sk-container {/* jupyter's `normalize.less` sets `[hidden] { display: none; }` but bootstrap.min.css set `[hidden] { display: none !important; }` so we also need the `!important` here to be able to override the default hidden behavior on the sphinx rendered scikit-learn.org. See: https://github.com/scikit-learn/scikit-learn/issues/21755 */display: inline-block !important;position: relative;}#sk-container-id-1 div.sk-text-repr-fallback {display: none;}</style><div id=\"sk-container-id-1\" class=\"sk-top-container\"><div class=\"sk-text-repr-fallback\"><pre>KNeighborsClassifier(n_neighbors=10)</pre><b>In a Jupyter environment, please rerun this cell to show the HTML representation or trust the notebook. <br />On GitHub, the HTML representation is unable to render, please try loading this page with nbviewer.org.</b></div><div class=\"sk-container\" hidden><div class=\"sk-item\"><div class=\"sk-estimator sk-toggleable\"><input class=\"sk-toggleable__control sk-hidden--visually\" id=\"sk-estimator-id-1\" type=\"checkbox\" checked><label for=\"sk-estimator-id-1\" class=\"sk-toggleable__label sk-toggleable__label-arrow\">KNeighborsClassifier</label><div class=\"sk-toggleable__content\"><pre>KNeighborsClassifier(n_neighbors=10)</pre></div></div></div></div></div>"
      ],
      "text/plain": [
       "KNeighborsClassifier(n_neighbors=10)"
      ]
     },
     "execution_count": 21,
     "metadata": {},
     "output_type": "execute_result"
    }
   ],
   "source": [
    "from sklearn.neighbors import KNeighborsClassifier\n",
    "knn=KNeighborsClassifier(n_neighbors = 10, metric = 'minkowski', p = 2)\n",
    "knn.fit(x_train,y_train)"
   ]
  },
  {
   "cell_type": "code",
   "execution_count": 22,
   "id": "70c04686",
   "metadata": {},
   "outputs": [
    {
     "data": {
      "text/plain": [
       "array([3, 7, 7, ..., 8, 7, 5], dtype=int64)"
      ]
     },
     "execution_count": 22,
     "metadata": {},
     "output_type": "execute_result"
    }
   ],
   "source": [
    "y_pred1= knn.predict(x_test)\n",
    "y_pred1"
   ]
  },
  {
   "cell_type": "code",
   "execution_count": 23,
   "id": "33de88ff",
   "metadata": {},
   "outputs": [
    {
     "data": {
      "text/plain": [
       "array([[835,   0,   0,   0,   0,   0],\n",
       "       [ 37, 770,  18,   9,   7,  11],\n",
       "       [ 43, 144, 491, 120,  52,  22],\n",
       "       [ 29,  87, 194, 254, 183,  83],\n",
       "       [ 16,  29,  34,  72, 562, 143],\n",
       "       [  6,   2,   1,   8,  36, 807]], dtype=int64)"
      ]
     },
     "execution_count": 23,
     "metadata": {},
     "output_type": "execute_result"
    }
   ],
   "source": [
    "from sklearn.metrics import confusion_matrix\n",
    "cf_matrix1 = confusion_matrix(y_test, y_pred1)\n",
    "cf_matrix1"
   ]
  },
  {
   "cell_type": "code",
   "execution_count": 24,
   "id": "e3a9570d",
   "metadata": {},
   "outputs": [
    {
     "name": "stdout",
     "output_type": "stream",
     "text": [
      "72.85014691478942 %\n"
     ]
    }
   ],
   "source": [
    "from sklearn.metrics import accuracy_score\n",
    "print(accuracy_score(y_pred1,y_test)*100,\"%\")"
   ]
  },
  {
   "cell_type": "markdown",
   "id": "b42060d6",
   "metadata": {},
   "source": [
    "## 2) SVM"
   ]
  },
  {
   "cell_type": "code",
   "execution_count": 25,
   "id": "29336f62",
   "metadata": {},
   "outputs": [
    {
     "data": {
      "text/html": [
       "<style>#sk-container-id-2 {color: black;background-color: white;}#sk-container-id-2 pre{padding: 0;}#sk-container-id-2 div.sk-toggleable {background-color: white;}#sk-container-id-2 label.sk-toggleable__label {cursor: pointer;display: block;width: 100%;margin-bottom: 0;padding: 0.3em;box-sizing: border-box;text-align: center;}#sk-container-id-2 label.sk-toggleable__label-arrow:before {content: \"▸\";float: left;margin-right: 0.25em;color: #696969;}#sk-container-id-2 label.sk-toggleable__label-arrow:hover:before {color: black;}#sk-container-id-2 div.sk-estimator:hover label.sk-toggleable__label-arrow:before {color: black;}#sk-container-id-2 div.sk-toggleable__content {max-height: 0;max-width: 0;overflow: hidden;text-align: left;background-color: #f0f8ff;}#sk-container-id-2 div.sk-toggleable__content pre {margin: 0.2em;color: black;border-radius: 0.25em;background-color: #f0f8ff;}#sk-container-id-2 input.sk-toggleable__control:checked~div.sk-toggleable__content {max-height: 200px;max-width: 100%;overflow: auto;}#sk-container-id-2 input.sk-toggleable__control:checked~label.sk-toggleable__label-arrow:before {content: \"▾\";}#sk-container-id-2 div.sk-estimator input.sk-toggleable__control:checked~label.sk-toggleable__label {background-color: #d4ebff;}#sk-container-id-2 div.sk-label input.sk-toggleable__control:checked~label.sk-toggleable__label {background-color: #d4ebff;}#sk-container-id-2 input.sk-hidden--visually {border: 0;clip: rect(1px 1px 1px 1px);clip: rect(1px, 1px, 1px, 1px);height: 1px;margin: -1px;overflow: hidden;padding: 0;position: absolute;width: 1px;}#sk-container-id-2 div.sk-estimator {font-family: monospace;background-color: #f0f8ff;border: 1px dotted black;border-radius: 0.25em;box-sizing: border-box;margin-bottom: 0.5em;}#sk-container-id-2 div.sk-estimator:hover {background-color: #d4ebff;}#sk-container-id-2 div.sk-parallel-item::after {content: \"\";width: 100%;border-bottom: 1px solid gray;flex-grow: 1;}#sk-container-id-2 div.sk-label:hover label.sk-toggleable__label {background-color: #d4ebff;}#sk-container-id-2 div.sk-serial::before {content: \"\";position: absolute;border-left: 1px solid gray;box-sizing: border-box;top: 0;bottom: 0;left: 50%;z-index: 0;}#sk-container-id-2 div.sk-serial {display: flex;flex-direction: column;align-items: center;background-color: white;padding-right: 0.2em;padding-left: 0.2em;position: relative;}#sk-container-id-2 div.sk-item {position: relative;z-index: 1;}#sk-container-id-2 div.sk-parallel {display: flex;align-items: stretch;justify-content: center;background-color: white;position: relative;}#sk-container-id-2 div.sk-item::before, #sk-container-id-2 div.sk-parallel-item::before {content: \"\";position: absolute;border-left: 1px solid gray;box-sizing: border-box;top: 0;bottom: 0;left: 50%;z-index: -1;}#sk-container-id-2 div.sk-parallel-item {display: flex;flex-direction: column;z-index: 1;position: relative;background-color: white;}#sk-container-id-2 div.sk-parallel-item:first-child::after {align-self: flex-end;width: 50%;}#sk-container-id-2 div.sk-parallel-item:last-child::after {align-self: flex-start;width: 50%;}#sk-container-id-2 div.sk-parallel-item:only-child::after {width: 0;}#sk-container-id-2 div.sk-dashed-wrapped {border: 1px dashed gray;margin: 0 0.4em 0.5em 0.4em;box-sizing: border-box;padding-bottom: 0.4em;background-color: white;}#sk-container-id-2 div.sk-label label {font-family: monospace;font-weight: bold;display: inline-block;line-height: 1.2em;}#sk-container-id-2 div.sk-label-container {text-align: center;}#sk-container-id-2 div.sk-container {/* jupyter's `normalize.less` sets `[hidden] { display: none; }` but bootstrap.min.css set `[hidden] { display: none !important; }` so we also need the `!important` here to be able to override the default hidden behavior on the sphinx rendered scikit-learn.org. See: https://github.com/scikit-learn/scikit-learn/issues/21755 */display: inline-block !important;position: relative;}#sk-container-id-2 div.sk-text-repr-fallback {display: none;}</style><div id=\"sk-container-id-2\" class=\"sk-top-container\"><div class=\"sk-text-repr-fallback\"><pre>SVC(random_state=10)</pre><b>In a Jupyter environment, please rerun this cell to show the HTML representation or trust the notebook. <br />On GitHub, the HTML representation is unable to render, please try loading this page with nbviewer.org.</b></div><div class=\"sk-container\" hidden><div class=\"sk-item\"><div class=\"sk-estimator sk-toggleable\"><input class=\"sk-toggleable__control sk-hidden--visually\" id=\"sk-estimator-id-2\" type=\"checkbox\" checked><label for=\"sk-estimator-id-2\" class=\"sk-toggleable__label sk-toggleable__label-arrow\">SVC</label><div class=\"sk-toggleable__content\"><pre>SVC(random_state=10)</pre></div></div></div></div></div>"
      ],
      "text/plain": [
       "SVC(random_state=10)"
      ]
     },
     "execution_count": 25,
     "metadata": {},
     "output_type": "execute_result"
    }
   ],
   "source": [
    "from sklearn.svm import SVC\n",
    "svm=SVC(kernel='rbf', random_state=10)\n",
    "svm.fit(x_train, y_train)"
   ]
  },
  {
   "cell_type": "code",
   "execution_count": 26,
   "id": "d787c61f",
   "metadata": {},
   "outputs": [
    {
     "data": {
      "text/plain": [
       "array([3, 8, 7, ..., 8, 6, 6], dtype=int64)"
      ]
     },
     "execution_count": 26,
     "metadata": {},
     "output_type": "execute_result"
    }
   ],
   "source": [
    "y_pred2=svm.predict(x_test)\n",
    "y_pred2"
   ]
  },
  {
   "cell_type": "code",
   "execution_count": 27,
   "id": "43d91728",
   "metadata": {},
   "outputs": [
    {
     "data": {
      "text/plain": [
       "array([[789,  38,   6,   2,   0,   0],\n",
       "       [ 28, 661,  94,  40,  19,  10],\n",
       "       [ 19, 140, 511, 151,  38,  13],\n",
       "       [ 26,  45, 177, 297, 199,  86],\n",
       "       [  9,  15,  31, 106, 437, 258],\n",
       "       [  1,  21,   1,  39, 122, 676]], dtype=int64)"
      ]
     },
     "execution_count": 27,
     "metadata": {},
     "output_type": "execute_result"
    }
   ],
   "source": [
    "cf_matrix2 = confusion_matrix(y_test, y_pred2)\n",
    "cf_matrix2"
   ]
  },
  {
   "cell_type": "code",
   "execution_count": 28,
   "id": "2122cd60",
   "metadata": {},
   "outputs": [
    {
     "name": "stdout",
     "output_type": "stream",
     "text": [
      "66.03330068560234 %\n"
     ]
    }
   ],
   "source": [
    "print(accuracy_score(y_pred2,y_test)*100,\"%\")"
   ]
  },
  {
   "cell_type": "markdown",
   "id": "ab561709",
   "metadata": {},
   "source": [
    "## 3) Random Forest"
   ]
  },
  {
   "cell_type": "code",
   "execution_count": 29,
   "id": "0884422a",
   "metadata": {},
   "outputs": [
    {
     "data": {
      "text/html": [
       "<style>#sk-container-id-3 {color: black;background-color: white;}#sk-container-id-3 pre{padding: 0;}#sk-container-id-3 div.sk-toggleable {background-color: white;}#sk-container-id-3 label.sk-toggleable__label {cursor: pointer;display: block;width: 100%;margin-bottom: 0;padding: 0.3em;box-sizing: border-box;text-align: center;}#sk-container-id-3 label.sk-toggleable__label-arrow:before {content: \"▸\";float: left;margin-right: 0.25em;color: #696969;}#sk-container-id-3 label.sk-toggleable__label-arrow:hover:before {color: black;}#sk-container-id-3 div.sk-estimator:hover label.sk-toggleable__label-arrow:before {color: black;}#sk-container-id-3 div.sk-toggleable__content {max-height: 0;max-width: 0;overflow: hidden;text-align: left;background-color: #f0f8ff;}#sk-container-id-3 div.sk-toggleable__content pre {margin: 0.2em;color: black;border-radius: 0.25em;background-color: #f0f8ff;}#sk-container-id-3 input.sk-toggleable__control:checked~div.sk-toggleable__content {max-height: 200px;max-width: 100%;overflow: auto;}#sk-container-id-3 input.sk-toggleable__control:checked~label.sk-toggleable__label-arrow:before {content: \"▾\";}#sk-container-id-3 div.sk-estimator input.sk-toggleable__control:checked~label.sk-toggleable__label {background-color: #d4ebff;}#sk-container-id-3 div.sk-label input.sk-toggleable__control:checked~label.sk-toggleable__label {background-color: #d4ebff;}#sk-container-id-3 input.sk-hidden--visually {border: 0;clip: rect(1px 1px 1px 1px);clip: rect(1px, 1px, 1px, 1px);height: 1px;margin: -1px;overflow: hidden;padding: 0;position: absolute;width: 1px;}#sk-container-id-3 div.sk-estimator {font-family: monospace;background-color: #f0f8ff;border: 1px dotted black;border-radius: 0.25em;box-sizing: border-box;margin-bottom: 0.5em;}#sk-container-id-3 div.sk-estimator:hover {background-color: #d4ebff;}#sk-container-id-3 div.sk-parallel-item::after {content: \"\";width: 100%;border-bottom: 1px solid gray;flex-grow: 1;}#sk-container-id-3 div.sk-label:hover label.sk-toggleable__label {background-color: #d4ebff;}#sk-container-id-3 div.sk-serial::before {content: \"\";position: absolute;border-left: 1px solid gray;box-sizing: border-box;top: 0;bottom: 0;left: 50%;z-index: 0;}#sk-container-id-3 div.sk-serial {display: flex;flex-direction: column;align-items: center;background-color: white;padding-right: 0.2em;padding-left: 0.2em;position: relative;}#sk-container-id-3 div.sk-item {position: relative;z-index: 1;}#sk-container-id-3 div.sk-parallel {display: flex;align-items: stretch;justify-content: center;background-color: white;position: relative;}#sk-container-id-3 div.sk-item::before, #sk-container-id-3 div.sk-parallel-item::before {content: \"\";position: absolute;border-left: 1px solid gray;box-sizing: border-box;top: 0;bottom: 0;left: 50%;z-index: -1;}#sk-container-id-3 div.sk-parallel-item {display: flex;flex-direction: column;z-index: 1;position: relative;background-color: white;}#sk-container-id-3 div.sk-parallel-item:first-child::after {align-self: flex-end;width: 50%;}#sk-container-id-3 div.sk-parallel-item:last-child::after {align-self: flex-start;width: 50%;}#sk-container-id-3 div.sk-parallel-item:only-child::after {width: 0;}#sk-container-id-3 div.sk-dashed-wrapped {border: 1px dashed gray;margin: 0 0.4em 0.5em 0.4em;box-sizing: border-box;padding-bottom: 0.4em;background-color: white;}#sk-container-id-3 div.sk-label label {font-family: monospace;font-weight: bold;display: inline-block;line-height: 1.2em;}#sk-container-id-3 div.sk-label-container {text-align: center;}#sk-container-id-3 div.sk-container {/* jupyter's `normalize.less` sets `[hidden] { display: none; }` but bootstrap.min.css set `[hidden] { display: none !important; }` so we also need the `!important` here to be able to override the default hidden behavior on the sphinx rendered scikit-learn.org. See: https://github.com/scikit-learn/scikit-learn/issues/21755 */display: inline-block !important;position: relative;}#sk-container-id-3 div.sk-text-repr-fallback {display: none;}</style><div id=\"sk-container-id-3\" class=\"sk-top-container\"><div class=\"sk-text-repr-fallback\"><pre>RandomForestRegressor(max_depth=5, random_state=10)</pre><b>In a Jupyter environment, please rerun this cell to show the HTML representation or trust the notebook. <br />On GitHub, the HTML representation is unable to render, please try loading this page with nbviewer.org.</b></div><div class=\"sk-container\" hidden><div class=\"sk-item\"><div class=\"sk-estimator sk-toggleable\"><input class=\"sk-toggleable__control sk-hidden--visually\" id=\"sk-estimator-id-3\" type=\"checkbox\" checked><label for=\"sk-estimator-id-3\" class=\"sk-toggleable__label sk-toggleable__label-arrow\">RandomForestRegressor</label><div class=\"sk-toggleable__content\"><pre>RandomForestRegressor(max_depth=5, random_state=10)</pre></div></div></div></div></div>"
      ],
      "text/plain": [
       "RandomForestRegressor(max_depth=5, random_state=10)"
      ]
     },
     "execution_count": 29,
     "metadata": {},
     "output_type": "execute_result"
    }
   ],
   "source": [
    "# Fitting Random Forest Regression to the dataset\n",
    "# import the regressor\n",
    "from sklearn.ensemble import RandomForestRegressor\n",
    "  \n",
    " # create regressor object\n",
    "rf = RandomForestRegressor(random_state = 10,max_depth = 5)\n",
    "  \n",
    "# fit the regressor with x and y data\n",
    "rf.fit(x_train, y_train)  "
   ]
  },
  {
   "cell_type": "code",
   "execution_count": 30,
   "id": "a3150915",
   "metadata": {},
   "outputs": [
    {
     "name": "stdout",
     "output_type": "stream",
     "text": [
      "Counter({5.0: 1769, 7.0: 1421, 6.0: 864, 4.0: 765, 3.0: 215, 8.0: 71})\n"
     ]
    }
   ],
   "source": [
    "ab=rf.predict(x_test)\n",
    "y_pred3=np.round(ab)\n",
    "print(Counter(y_pred3))"
   ]
  },
  {
   "cell_type": "code",
   "execution_count": 31,
   "id": "fde2e0c2",
   "metadata": {},
   "outputs": [
    {
     "data": {
      "text/plain": [
       "array([[198, 347, 258,  32,   0,   0],\n",
       "       [ 13, 280, 429, 120,  10,   0],\n",
       "       [  4,  93, 604, 131,  40,   0],\n",
       "       [  0,  35, 335, 250, 209,   1],\n",
       "       [  0,   8, 114, 217, 517,   0],\n",
       "       [  0,   2,  29, 114, 645,  70]], dtype=int64)"
      ]
     },
     "execution_count": 31,
     "metadata": {},
     "output_type": "execute_result"
    }
   ],
   "source": [
    "cf_matrix3 = confusion_matrix(y_test, y_pred3)\n",
    "cf_matrix3"
   ]
  },
  {
   "cell_type": "code",
   "execution_count": 32,
   "id": "67b67774",
   "metadata": {},
   "outputs": [
    {
     "name": "stdout",
     "output_type": "stream",
     "text": [
      "37.59059745347698 %\n"
     ]
    }
   ],
   "source": [
    "print(accuracy_score(y_pred3,y_test)*100,\"%\")"
   ]
  },
  {
   "cell_type": "markdown",
   "id": "bcf74407",
   "metadata": {},
   "source": [
    "## 4) Logistic Regression"
   ]
  },
  {
   "cell_type": "code",
   "execution_count": 33,
   "id": "47fce981",
   "metadata": {},
   "outputs": [
    {
     "data": {
      "text/html": [
       "<style>#sk-container-id-4 {color: black;background-color: white;}#sk-container-id-4 pre{padding: 0;}#sk-container-id-4 div.sk-toggleable {background-color: white;}#sk-container-id-4 label.sk-toggleable__label {cursor: pointer;display: block;width: 100%;margin-bottom: 0;padding: 0.3em;box-sizing: border-box;text-align: center;}#sk-container-id-4 label.sk-toggleable__label-arrow:before {content: \"▸\";float: left;margin-right: 0.25em;color: #696969;}#sk-container-id-4 label.sk-toggleable__label-arrow:hover:before {color: black;}#sk-container-id-4 div.sk-estimator:hover label.sk-toggleable__label-arrow:before {color: black;}#sk-container-id-4 div.sk-toggleable__content {max-height: 0;max-width: 0;overflow: hidden;text-align: left;background-color: #f0f8ff;}#sk-container-id-4 div.sk-toggleable__content pre {margin: 0.2em;color: black;border-radius: 0.25em;background-color: #f0f8ff;}#sk-container-id-4 input.sk-toggleable__control:checked~div.sk-toggleable__content {max-height: 200px;max-width: 100%;overflow: auto;}#sk-container-id-4 input.sk-toggleable__control:checked~label.sk-toggleable__label-arrow:before {content: \"▾\";}#sk-container-id-4 div.sk-estimator input.sk-toggleable__control:checked~label.sk-toggleable__label {background-color: #d4ebff;}#sk-container-id-4 div.sk-label input.sk-toggleable__control:checked~label.sk-toggleable__label {background-color: #d4ebff;}#sk-container-id-4 input.sk-hidden--visually {border: 0;clip: rect(1px 1px 1px 1px);clip: rect(1px, 1px, 1px, 1px);height: 1px;margin: -1px;overflow: hidden;padding: 0;position: absolute;width: 1px;}#sk-container-id-4 div.sk-estimator {font-family: monospace;background-color: #f0f8ff;border: 1px dotted black;border-radius: 0.25em;box-sizing: border-box;margin-bottom: 0.5em;}#sk-container-id-4 div.sk-estimator:hover {background-color: #d4ebff;}#sk-container-id-4 div.sk-parallel-item::after {content: \"\";width: 100%;border-bottom: 1px solid gray;flex-grow: 1;}#sk-container-id-4 div.sk-label:hover label.sk-toggleable__label {background-color: #d4ebff;}#sk-container-id-4 div.sk-serial::before {content: \"\";position: absolute;border-left: 1px solid gray;box-sizing: border-box;top: 0;bottom: 0;left: 50%;z-index: 0;}#sk-container-id-4 div.sk-serial {display: flex;flex-direction: column;align-items: center;background-color: white;padding-right: 0.2em;padding-left: 0.2em;position: relative;}#sk-container-id-4 div.sk-item {position: relative;z-index: 1;}#sk-container-id-4 div.sk-parallel {display: flex;align-items: stretch;justify-content: center;background-color: white;position: relative;}#sk-container-id-4 div.sk-item::before, #sk-container-id-4 div.sk-parallel-item::before {content: \"\";position: absolute;border-left: 1px solid gray;box-sizing: border-box;top: 0;bottom: 0;left: 50%;z-index: -1;}#sk-container-id-4 div.sk-parallel-item {display: flex;flex-direction: column;z-index: 1;position: relative;background-color: white;}#sk-container-id-4 div.sk-parallel-item:first-child::after {align-self: flex-end;width: 50%;}#sk-container-id-4 div.sk-parallel-item:last-child::after {align-self: flex-start;width: 50%;}#sk-container-id-4 div.sk-parallel-item:only-child::after {width: 0;}#sk-container-id-4 div.sk-dashed-wrapped {border: 1px dashed gray;margin: 0 0.4em 0.5em 0.4em;box-sizing: border-box;padding-bottom: 0.4em;background-color: white;}#sk-container-id-4 div.sk-label label {font-family: monospace;font-weight: bold;display: inline-block;line-height: 1.2em;}#sk-container-id-4 div.sk-label-container {text-align: center;}#sk-container-id-4 div.sk-container {/* jupyter's `normalize.less` sets `[hidden] { display: none; }` but bootstrap.min.css set `[hidden] { display: none !important; }` so we also need the `!important` here to be able to override the default hidden behavior on the sphinx rendered scikit-learn.org. See: https://github.com/scikit-learn/scikit-learn/issues/21755 */display: inline-block !important;position: relative;}#sk-container-id-4 div.sk-text-repr-fallback {display: none;}</style><div id=\"sk-container-id-4\" class=\"sk-top-container\"><div class=\"sk-text-repr-fallback\"><pre>LogisticRegression(multi_class=&#x27;multinomial&#x27;)</pre><b>In a Jupyter environment, please rerun this cell to show the HTML representation or trust the notebook. <br />On GitHub, the HTML representation is unable to render, please try loading this page with nbviewer.org.</b></div><div class=\"sk-container\" hidden><div class=\"sk-item\"><div class=\"sk-estimator sk-toggleable\"><input class=\"sk-toggleable__control sk-hidden--visually\" id=\"sk-estimator-id-4\" type=\"checkbox\" checked><label for=\"sk-estimator-id-4\" class=\"sk-toggleable__label sk-toggleable__label-arrow\">LogisticRegression</label><div class=\"sk-toggleable__content\"><pre>LogisticRegression(multi_class=&#x27;multinomial&#x27;)</pre></div></div></div></div></div>"
      ],
      "text/plain": [
       "LogisticRegression(multi_class='multinomial')"
      ]
     },
     "execution_count": 33,
     "metadata": {},
     "output_type": "execute_result"
    }
   ],
   "source": [
    "from sklearn.linear_model import LogisticRegression\n",
    "lr=LogisticRegression(multi_class='multinomial', solver='lbfgs')\n",
    "lr.fit(x_train, y_train)\n"
   ]
  },
  {
   "cell_type": "code",
   "execution_count": 34,
   "id": "e36d13da",
   "metadata": {},
   "outputs": [
    {
     "data": {
      "text/plain": [
       "array([3, 8, 8, ..., 8, 6, 6], dtype=int64)"
      ]
     },
     "execution_count": 34,
     "metadata": {},
     "output_type": "execute_result"
    }
   ],
   "source": [
    "y_pred4=lr.predict(x_test)\n",
    "y_pred4"
   ]
  },
  {
   "cell_type": "code",
   "execution_count": 35,
   "id": "3ce43b91",
   "metadata": {},
   "outputs": [
    {
     "data": {
      "text/plain": [
       "array([[448, 158,  75,  59,  10,  85],\n",
       "       [142, 444, 152,  73,  22,  19],\n",
       "       [ 95, 180, 387, 133,  49,  28],\n",
       "       [ 75,  61, 151, 248, 149, 146],\n",
       "       [ 24,  29,  64, 142, 270, 327],\n",
       "       [ 43,  21,  77,  49, 165, 505]], dtype=int64)"
      ]
     },
     "execution_count": 35,
     "metadata": {},
     "output_type": "execute_result"
    }
   ],
   "source": [
    "cf_matrix4 = confusion_matrix(y_test, y_pred4)\n",
    "cf_matrix4"
   ]
  },
  {
   "cell_type": "code",
   "execution_count": 36,
   "id": "08111894",
   "metadata": {},
   "outputs": [
    {
     "name": "stdout",
     "output_type": "stream",
     "text": [
      "45.09304603330069 %\n"
     ]
    }
   ],
   "source": [
    "print(accuracy_score(y_test, y_pred4)*100,\"%\")"
   ]
  },
  {
   "cell_type": "markdown",
   "id": "019fc11a",
   "metadata": {},
   "source": [
    "## Using Cross Validation\n",
    "### Strtified K Fold Cross Validation"
   ]
  },
  {
   "cell_type": "code",
   "execution_count": 37,
   "id": "3d744f05",
   "metadata": {},
   "outputs": [],
   "source": [
    "from sklearn.model_selection import StratifiedKFold\n",
    "skf=StratifiedKFold(n_splits=10, random_state=10,shuffle=True)\n"
   ]
  },
  {
   "cell_type": "markdown",
   "id": "052fc274",
   "metadata": {},
   "source": [
    "## 1) KNN"
   ]
  },
  {
   "cell_type": "code",
   "execution_count": 38,
   "id": "e1c5aac3",
   "metadata": {},
   "outputs": [
    {
     "name": "stdout",
     "output_type": "stream",
     "text": [
      "y_train_fold Counter({7: 2553, 4: 2553, 6: 2552, 5: 2552, 8: 2552, 3: 2552})\n",
      "y_test_fold Counter({6: 284, 5: 284, 8: 284, 3: 284, 7: 283, 4: 283})\n",
      "y_pred11 Counter({4: 353, 8: 342, 3: 324, 7: 293, 5: 244, 6: 146})\n",
      "score 73.91304347826086 %\n",
      "[3 4 3 ... 8 8 8]\n",
      "y_train_fold Counter({7: 2553, 4: 2553, 6: 2552, 5: 2552, 8: 2552, 3: 2552})\n",
      "y_test_fold Counter({6: 284, 5: 284, 8: 284, 3: 284, 7: 283, 4: 283})\n",
      "y_pred11 Counter({4: 355, 8: 347, 3: 316, 7: 269, 5: 242, 6: 173})\n",
      "score 75.73443008225617 %\n",
      "[6 7 5 ... 8 8 8]\n",
      "y_train_fold Counter({5: 2553, 4: 2553, 6: 2552, 7: 2552, 8: 2552, 3: 2552})\n",
      "y_test_fold Counter({8: 284, 6: 284, 7: 284, 3: 284, 5: 283, 4: 283})\n",
      "y_pred11 Counter({4: 351, 8: 333, 3: 320, 7: 269, 5: 250, 6: 179})\n",
      "score 73.26674500587545 %\n",
      "[4 7 8 ... 8 8 8]\n",
      "y_train_fold Counter({5: 2553, 4: 2553, 6: 2552, 7: 2552, 8: 2552, 3: 2552})\n",
      "y_test_fold Counter({7: 284, 8: 284, 6: 284, 3: 284, 5: 283, 4: 283})\n",
      "y_pred11 Counter({8: 342, 4: 342, 3: 325, 7: 298, 5: 253, 6: 142})\n",
      "score 74.97062279670975 %\n",
      "[5 7 7 ... 8 7 8]\n",
      "y_train_fold Counter({5: 2553, 8: 2553, 6: 2552, 7: 2552, 4: 2552, 3: 2552})\n",
      "y_test_fold Counter({6: 284, 7: 284, 4: 284, 3: 284, 5: 283, 8: 283})\n",
      "y_pred11 Counter({8: 340, 4: 337, 3: 330, 7: 289, 5: 266, 6: 140})\n",
      "score 73.38425381903643 %\n",
      "[3 6 5 ... 8 8 7]\n",
      "y_train_fold Counter({5: 2553, 8: 2553, 6: 2552, 7: 2552, 4: 2552, 3: 2552})\n",
      "y_test_fold Counter({6: 284, 7: 284, 4: 284, 3: 284, 5: 283, 8: 283})\n",
      "y_pred11 Counter({4: 353, 8: 329, 3: 327, 7: 283, 5: 252, 6: 158})\n",
      "score 74.32432432432432 %\n",
      "[5 5 7 ... 8 8 8]\n",
      "y_train_fold Counter({6: 2553, 8: 2553, 3: 2553, 5: 2552, 7: 2552, 4: 2552})\n",
      "y_test_fold Counter({7: 284, 5: 284, 4: 284, 6: 283, 8: 283, 3: 283})\n",
      "y_pred11 Counter({8: 351, 4: 344, 3: 316, 7: 285, 5: 245, 6: 160})\n",
      "score 75.60258671369783 %\n",
      "[3 8 5 ... 8 8 8]\n",
      "y_train_fold Counter({6: 2553, 8: 2553, 3: 2553, 5: 2552, 7: 2552, 4: 2552})\n",
      "y_test_fold Counter({5: 284, 7: 284, 4: 284, 6: 283, 8: 283, 3: 283})\n",
      "y_pred11 Counter({4: 344, 8: 343, 3: 324, 7: 281, 5: 252, 6: 157})\n",
      "score 74.83833039388595 %\n",
      "[3 3 5 ... 8 8 8]\n",
      "y_train_fold Counter({6: 2553, 7: 2553, 3: 2553, 5: 2552, 8: 2552, 4: 2552})\n",
      "y_test_fold Counter({5: 284, 8: 284, 4: 284, 6: 283, 7: 283, 3: 283})\n",
      "y_pred11 Counter({4: 358, 8: 355, 3: 317, 7: 257, 5: 238, 6: 176})\n",
      "score 73.07466196355085 %\n",
      "[5 4 4 ... 8 8 8]\n",
      "y_train_fold Counter({6: 2553, 7: 2553, 3: 2553, 5: 2552, 8: 2552, 4: 2552})\n",
      "y_test_fold Counter({4: 284, 5: 284, 8: 284, 6: 283, 7: 283, 3: 283})\n",
      "y_pred11 Counter({4: 354, 8: 346, 3: 317, 7: 290, 5: 248, 6: 146})\n",
      "score 74.66196355085243 %\n",
      "[3 4 5 ... 8 8 8]\n"
     ]
    }
   ],
   "source": [
    "from sklearn.model_selection import cross_val_predict\n",
    "from sklearn.metrics import accuracy_score\n",
    "score1 = []\n",
    "\n",
    "for train_index, test_index in skf.split(x_data1, y_data):\n",
    "    x_train_fold, x_test_fold = x_data1[train_index], x_data1[test_index]\n",
    "    y_train_fold, y_test_fold = y_data[train_index], y_data[test_index]\n",
    "    knn.fit(x_train_fold, y_train_fold)\n",
    "    y_pred11=knn.predict(x_test_fold)\n",
    "    score=accuracy_score(y_pred11, y_test_fold)\n",
    "    score1.append(score)\n",
    "    print(\"y_train_fold\",Counter(y_train_fold))\n",
    "    print(\"y_test_fold\",Counter(y_test_fold))\n",
    "    print(\"y_pred11\",Counter(y_pred11))\n",
    "    print(\"score\",(score)*100,\"%\")\n",
    "    print(y_pred11)"
   ]
  },
  {
   "cell_type": "code",
   "execution_count": 39,
   "id": "4957ccdd",
   "metadata": {},
   "outputs": [
    {
     "name": "stdout",
     "output_type": "stream",
     "text": [
      "74.377096212845 %\n"
     ]
    }
   ],
   "source": [
    "from statistics import mean\n",
    "print(mean(score1)*100,\"%\")"
   ]
  },
  {
   "cell_type": "markdown",
   "id": "f57870df",
   "metadata": {},
   "source": [
    "## 2) SVM"
   ]
  },
  {
   "cell_type": "code",
   "execution_count": 40,
   "id": "1c150669",
   "metadata": {},
   "outputs": [
    {
     "name": "stdout",
     "output_type": "stream",
     "text": [
      "y_train_fold Counter({7: 2553, 4: 2553, 6: 2552, 5: 2552, 8: 2552, 3: 2552})\n",
      "y_test_fold Counter({6: 284, 5: 284, 8: 284, 3: 284, 7: 283, 4: 283})\n",
      "y_pred11 Counter({8: 344, 4: 317, 3: 314, 5: 264, 7: 260, 6: 203})\n",
      "score 64.33607520564041 %\n",
      "[3 6 3 ... 8 7 8]\n",
      "y_train_fold Counter({7: 2553, 4: 2553, 6: 2552, 5: 2552, 8: 2552, 3: 2552})\n",
      "y_test_fold Counter({6: 284, 5: 284, 8: 284, 3: 284, 7: 283, 4: 283})\n",
      "y_pred11 Counter({8: 349, 4: 308, 3: 290, 5: 271, 7: 267, 6: 217})\n",
      "score 66.56874265569918 %\n",
      "[3 6 5 ... 6 8 8]\n",
      "y_train_fold Counter({5: 2553, 4: 2553, 6: 2552, 7: 2552, 8: 2552, 3: 2552})\n",
      "y_test_fold Counter({8: 284, 6: 284, 7: 284, 3: 284, 5: 283, 4: 283})\n",
      "y_pred11 Counter({4: 356, 8: 340, 3: 279, 5: 266, 7: 255, 6: 206})\n",
      "score 65.62867215041128 %\n",
      "[4 7 8 ... 8 8 8]\n",
      "y_train_fold Counter({5: 2553, 4: 2553, 6: 2552, 7: 2552, 8: 2552, 3: 2552})\n",
      "y_test_fold Counter({7: 284, 8: 284, 6: 284, 3: 284, 5: 283, 4: 283})\n",
      "y_pred11 Counter({8: 351, 4: 312, 3: 298, 5: 268, 7: 261, 6: 212})\n",
      "score 64.68860164512338 %\n",
      "[5 4 6 ... 8 8 8]\n",
      "y_train_fold Counter({5: 2553, 8: 2553, 6: 2552, 7: 2552, 4: 2552, 3: 2552})\n",
      "y_test_fold Counter({6: 284, 7: 284, 4: 284, 3: 284, 5: 283, 8: 283})\n",
      "y_pred11 Counter({8: 348, 3: 304, 4: 301, 5: 294, 7: 259, 6: 196})\n",
      "score 64.80611045828437 %\n",
      "[3 4 5 ... 8 8 7]\n",
      "y_train_fold Counter({5: 2553, 8: 2553, 6: 2552, 7: 2552, 4: 2552, 3: 2552})\n",
      "y_test_fold Counter({6: 284, 7: 284, 4: 284, 3: 284, 5: 283, 8: 283})\n",
      "y_pred11 Counter({8: 347, 4: 334, 3: 299, 7: 273, 5: 272, 6: 177})\n",
      "score 66.45123384253819 %\n",
      "[5 5 7 ... 8 8 8]\n",
      "y_train_fold Counter({6: 2553, 8: 2553, 3: 2553, 5: 2552, 7: 2552, 4: 2552})\n",
      "y_test_fold Counter({7: 284, 5: 284, 4: 284, 6: 283, 8: 283, 3: 283})\n",
      "y_pred11 Counter({8: 364, 4: 311, 3: 295, 5: 273, 7: 249, 6: 209})\n",
      "score 65.49088771310994 %\n",
      "[4 8 4 ... 8 8 8]\n",
      "y_train_fold Counter({6: 2553, 8: 2553, 3: 2553, 5: 2552, 7: 2552, 4: 2552})\n",
      "y_test_fold Counter({5: 284, 7: 284, 4: 284, 6: 283, 8: 283, 3: 283})\n",
      "y_pred11 Counter({8: 335, 4: 311, 3: 298, 7: 275, 5: 267, 6: 215})\n",
      "score 67.07818930041152 %\n",
      "[4 3 5 ... 8 8 8]\n",
      "y_train_fold Counter({6: 2553, 7: 2553, 3: 2553, 5: 2552, 8: 2552, 4: 2552})\n",
      "y_test_fold Counter({5: 284, 8: 284, 4: 284, 6: 283, 7: 283, 3: 283})\n",
      "y_pred11 Counter({8: 366, 4: 318, 3: 292, 7: 255, 5: 253, 6: 217})\n",
      "score 65.9024103468548 %\n",
      "[5 4 5 ... 8 7 8]\n",
      "y_train_fold Counter({6: 2553, 7: 2553, 3: 2553, 5: 2552, 8: 2552, 4: 2552})\n",
      "y_test_fold Counter({4: 284, 5: 284, 8: 284, 6: 283, 7: 283, 3: 283})\n",
      "y_pred11 Counter({8: 356, 4: 307, 3: 292, 7: 283, 5: 266, 6: 197})\n",
      "score 67.96002351557907 %\n",
      "[3 5 5 ... 8 8 8]\n"
     ]
    }
   ],
   "source": [
    "score2 = []\n",
    "for train_index, test_index in skf.split(x_data1, y_data):\n",
    "    x_train_fold, x_test_fold = x_data1[train_index], x_data1[test_index]\n",
    "    y_train_fold, y_test_fold = y_data[train_index], y_data[test_index]\n",
    "    svm.fit(x_train_fold, y_train_fold)\n",
    "    y_pred22=svm.predict(x_test_fold)\n",
    "    score=accuracy_score(y_pred22, y_test_fold)\n",
    "    score2.append(score)\n",
    "    print(\"y_train_fold\",Counter(y_train_fold))\n",
    "    print(\"y_test_fold\",Counter(y_test_fold))\n",
    "    print(\"y_pred11\",Counter(y_pred22))\n",
    "    print(\"score\",(score)*100,\"%\")\n",
    "    print(y_pred22)"
   ]
  },
  {
   "cell_type": "code",
   "execution_count": 41,
   "id": "767c0986",
   "metadata": {},
   "outputs": [
    {
     "name": "stdout",
     "output_type": "stream",
     "text": [
      "65.89109468336521 %\n"
     ]
    }
   ],
   "source": [
    "from statistics import mean\n",
    "print(mean(score2)*100,\"%\")"
   ]
  },
  {
   "cell_type": "markdown",
   "id": "4fc7a6e3",
   "metadata": {},
   "source": [
    "## 3) Random Forest"
   ]
  },
  {
   "cell_type": "code",
   "execution_count": 42,
   "id": "5462930f",
   "metadata": {},
   "outputs": [
    {
     "name": "stdout",
     "output_type": "stream",
     "text": [
      "y_train_fold Counter({7: 2553, 4: 2553, 6: 2552, 5: 2552, 8: 2552, 3: 2552})\n",
      "y_test_fold Counter({6: 284, 5: 284, 8: 284, 3: 284, 7: 283, 4: 283})\n",
      "y_pred33 Counter({8: 356, 4: 307, 3: 292, 7: 283, 5: 266, 6: 197})\n",
      "score 40.65804935370153 %\n",
      "[5. 6. 5. ... 8. 6. 8.]\n",
      "y_train_fold Counter({7: 2553, 4: 2553, 6: 2552, 5: 2552, 8: 2552, 3: 2552})\n",
      "y_test_fold Counter({6: 284, 5: 284, 8: 284, 3: 284, 7: 283, 4: 283})\n",
      "y_pred33 Counter({8: 356, 4: 307, 3: 292, 7: 283, 5: 266, 6: 197})\n",
      "score 36.427732079905994 %\n",
      "[5. 7. 5. ... 7. 7. 7.]\n",
      "y_train_fold Counter({5: 2553, 4: 2553, 6: 2552, 7: 2552, 8: 2552, 3: 2552})\n",
      "y_test_fold Counter({8: 284, 6: 284, 7: 284, 3: 284, 5: 283, 4: 283})\n",
      "y_pred33 Counter({8: 356, 4: 307, 3: 292, 7: 283, 5: 266, 6: 197})\n",
      "score 37.66157461809635 %\n",
      "[5. 6. 7. ... 7. 7. 7.]\n",
      "y_train_fold Counter({5: 2553, 4: 2553, 6: 2552, 7: 2552, 8: 2552, 3: 2552})\n",
      "y_test_fold Counter({7: 284, 8: 284, 6: 284, 3: 284, 5: 283, 4: 283})\n",
      "y_pred33 Counter({8: 356, 4: 307, 3: 292, 7: 283, 5: 266, 6: 197})\n",
      "score 40.42303172737955 %\n",
      "[5. 5. 5. ... 7. 7. 7.]\n",
      "y_train_fold Counter({5: 2553, 8: 2553, 6: 2552, 7: 2552, 4: 2552, 3: 2552})\n",
      "y_test_fold Counter({6: 284, 7: 284, 4: 284, 3: 284, 5: 283, 8: 283})\n",
      "y_pred33 Counter({8: 356, 4: 307, 3: 292, 7: 283, 5: 266, 6: 197})\n",
      "score 35.370152761457106 %\n",
      "[5. 6. 6. ... 7. 7. 7.]\n",
      "y_train_fold Counter({5: 2553, 8: 2553, 6: 2552, 7: 2552, 4: 2552, 3: 2552})\n",
      "y_test_fold Counter({6: 284, 7: 284, 4: 284, 3: 284, 5: 283, 8: 283})\n",
      "y_pred33 Counter({8: 356, 4: 307, 3: 292, 7: 283, 5: 266, 6: 197})\n",
      "score 36.83901292596945 %\n",
      "[5. 5. 7. ... 7. 7. 8.]\n",
      "y_train_fold Counter({6: 2553, 8: 2553, 3: 2553, 5: 2552, 7: 2552, 4: 2552})\n",
      "y_test_fold Counter({7: 284, 5: 284, 4: 284, 6: 283, 8: 283, 3: 283})\n",
      "y_pred33 Counter({8: 356, 4: 307, 3: 292, 7: 283, 5: 266, 6: 197})\n",
      "score 35.44973544973545 %\n",
      "[5. 7. 5. ... 7. 7. 7.]\n",
      "y_train_fold Counter({6: 2553, 8: 2553, 3: 2553, 5: 2552, 7: 2552, 4: 2552})\n",
      "y_test_fold Counter({5: 284, 7: 284, 4: 284, 6: 283, 8: 283, 3: 283})\n",
      "y_pred33 Counter({8: 356, 4: 307, 3: 292, 7: 283, 5: 266, 6: 197})\n",
      "score 39.85890652557319 %\n",
      "[5. 5. 5. ... 7. 7. 7.]\n",
      "y_train_fold Counter({6: 2553, 7: 2553, 3: 2553, 5: 2552, 8: 2552, 4: 2552})\n",
      "y_test_fold Counter({5: 284, 8: 284, 4: 284, 6: 283, 7: 283, 3: 283})\n",
      "y_pred33 Counter({8: 356, 4: 307, 3: 292, 7: 283, 5: 266, 6: 197})\n",
      "score 37.56613756613756 %\n",
      "[5. 4. 5. ... 8. 6. 7.]\n",
      "y_train_fold Counter({6: 2553, 7: 2553, 3: 2553, 5: 2552, 8: 2552, 4: 2552})\n",
      "y_test_fold Counter({4: 284, 5: 284, 8: 284, 6: 283, 7: 283, 3: 283})\n",
      "y_pred33 Counter({8: 356, 4: 307, 3: 292, 7: 283, 5: 266, 6: 197})\n",
      "score 37.03703703703704 %\n",
      "[5. 5. 5. ... 7. 7. 7.]\n"
     ]
    }
   ],
   "source": [
    "score3 = []\n",
    "for train_index, test_index in skf.split(x_data1, y_data):\n",
    "    x_train_fold, x_test_fold = x_data1[train_index], x_data1[test_index]\n",
    "    y_train_fold, y_test_fold = y_data[train_index], y_data[test_index]\n",
    "    rf.fit(x_train_fold, y_train_fold)\n",
    "    y_pred333=rf.predict(x_test_fold)\n",
    "    y_pred33=np.round(y_pred333)\n",
    "    score=accuracy_score(y_pred33, y_test_fold)\n",
    "    score3.append(score)\n",
    "    print(\"y_train_fold\",Counter(y_train_fold))\n",
    "    print(\"y_test_fold\",Counter(y_test_fold))\n",
    "    print(\"y_pred33\",Counter(y_pred22))\n",
    "    print(\"score\",(score)*100,\"%\")\n",
    "    print(y_pred33)"
   ]
  },
  {
   "cell_type": "code",
   "execution_count": 43,
   "id": "4eab4a1b",
   "metadata": {},
   "outputs": [
    {
     "name": "stdout",
     "output_type": "stream",
     "text": [
      "37.72913700449932 %\n"
     ]
    }
   ],
   "source": [
    "from statistics import mean\n",
    "print(mean(score3)*100,\"%\")"
   ]
  },
  {
   "cell_type": "markdown",
   "id": "5f4876b7",
   "metadata": {},
   "source": [
    "## 4) Logistic Regression"
   ]
  },
  {
   "cell_type": "code",
   "execution_count": 44,
   "id": "37bab229",
   "metadata": {},
   "outputs": [
    {
     "name": "stdout",
     "output_type": "stream",
     "text": [
      "y_train_fold Counter({7: 2553, 4: 2553, 6: 2552, 5: 2552, 8: 2552, 3: 2552})\n",
      "y_test_fold Counter({6: 284, 5: 284, 8: 284, 3: 284, 7: 283, 4: 283})\n",
      "y_pred33 Counter({8: 361, 5: 304, 3: 295, 4: 285, 7: 266, 6: 191})\n",
      "score 45.534665099882496 %\n",
      "[6 6 3 ... 5 7 8]\n",
      "y_train_fold Counter({7: 2553, 4: 2553, 6: 2552, 5: 2552, 8: 2552, 3: 2552})\n",
      "y_test_fold Counter({6: 284, 5: 284, 8: 284, 3: 284, 7: 283, 4: 283})\n",
      "y_pred33 Counter({8: 343, 5: 323, 3: 288, 4: 279, 7: 260, 6: 209})\n",
      "score 44.712103407755585 %\n",
      "[6 3 3 ... 7 8 8]\n",
      "y_train_fold Counter({5: 2553, 4: 2553, 6: 2552, 7: 2552, 8: 2552, 3: 2552})\n",
      "y_test_fold Counter({8: 284, 6: 284, 7: 284, 3: 284, 5: 283, 4: 283})\n",
      "y_pred33 Counter({8: 340, 4: 329, 5: 307, 3: 296, 7: 227, 6: 203})\n",
      "score 43.889541715628674 %\n",
      "[4 7 3 ... 8 8 7]\n",
      "y_train_fold Counter({5: 2553, 4: 2553, 6: 2552, 7: 2552, 8: 2552, 3: 2552})\n",
      "y_test_fold Counter({7: 284, 8: 284, 6: 284, 3: 284, 5: 283, 4: 283})\n",
      "y_pred33 Counter({8: 364, 5: 304, 4: 287, 3: 281, 7: 237, 6: 229})\n",
      "score 43.713278495887195 %\n",
      "[5 6 6 ... 8 8 4]\n",
      "y_train_fold Counter({5: 2553, 8: 2553, 6: 2552, 7: 2552, 4: 2552, 3: 2552})\n",
      "y_test_fold Counter({6: 284, 7: 284, 4: 284, 3: 284, 5: 283, 8: 283})\n",
      "y_pred33 Counter({8: 351, 4: 312, 3: 304, 5: 290, 7: 226, 6: 219})\n",
      "score 45.710928319623974 %\n",
      "[6 7 3 ... 8 7 7]\n",
      "y_train_fold Counter({5: 2553, 8: 2553, 6: 2552, 7: 2552, 4: 2552, 3: 2552})\n",
      "y_test_fold Counter({6: 284, 7: 284, 4: 284, 3: 284, 5: 283, 8: 283})\n",
      "y_pred33 Counter({8: 373, 4: 301, 3: 296, 5: 294, 7: 238, 6: 200})\n",
      "score 43.713278495887195 %\n",
      "[5 4 7 ... 8 7 5]\n",
      "y_train_fold Counter({6: 2553, 8: 2553, 3: 2553, 5: 2552, 7: 2552, 4: 2552})\n",
      "y_test_fold Counter({7: 284, 5: 284, 4: 284, 6: 283, 8: 283, 3: 283})\n",
      "y_pred33 Counter({8: 412, 5: 304, 4: 302, 3: 268, 7: 227, 6: 188})\n",
      "score 45.5026455026455 %\n",
      "[4 8 4 ... 8 8 8]\n",
      "y_train_fold Counter({6: 2553, 8: 2553, 3: 2553, 5: 2552, 7: 2552, 4: 2552})\n",
      "y_test_fold Counter({5: 284, 7: 284, 4: 284, 6: 283, 8: 283, 3: 283})\n",
      "y_pred33 Counter({8: 368, 3: 293, 5: 293, 4: 290, 6: 231, 7: 226})\n",
      "score 46.6196355085244 %\n",
      "[4 3 5 ... 8 8 8]\n",
      "y_train_fold Counter({6: 2553, 7: 2553, 3: 2553, 5: 2552, 8: 2552, 4: 2552})\n",
      "y_test_fold Counter({5: 284, 8: 284, 4: 284, 6: 283, 7: 283, 3: 283})\n",
      "y_pred33 Counter({8: 386, 5: 306, 3: 306, 4: 279, 7: 232, 6: 192})\n",
      "score 43.327454438565546 %\n",
      "[5 4 5 ... 5 7 8]\n",
      "y_train_fold Counter({6: 2553, 7: 2553, 3: 2553, 5: 2552, 8: 2552, 4: 2552})\n",
      "y_test_fold Counter({4: 284, 5: 284, 8: 284, 6: 283, 7: 283, 3: 283})\n",
      "y_pred33 Counter({8: 367, 5: 302, 3: 294, 4: 281, 7: 243, 6: 214})\n",
      "score 45.14991181657848 %\n",
      "[3 5 5 ... 7 8 8]\n"
     ]
    }
   ],
   "source": [
    "score4 = []\n",
    "for train_index, test_index in skf.split(x_data1, y_data):\n",
    "    x_train_fold, x_test_fold = x_data1[train_index], x_data1[test_index]\n",
    "    y_train_fold, y_test_fold = y_data[train_index], y_data[test_index]\n",
    "    lr.fit(x_train_fold, y_train_fold)\n",
    "    y_pred44=lr.predict(x_test_fold)\n",
    "    #y_pred44=np.round(y_pred444)\n",
    "    score44=accuracy_score(y_pred44, y_test_fold)\n",
    "    score4.append(score44)\n",
    "    print(\"y_train_fold\",Counter(y_train_fold))\n",
    "    print(\"y_test_fold\",Counter(y_test_fold))\n",
    "    print(\"y_pred33\",Counter(y_pred44))\n",
    "    print(\"score\",(score44)*100,\"%\")\n",
    "    print(y_pred44)"
   ]
  },
  {
   "cell_type": "code",
   "execution_count": 45,
   "id": "82d9bc95",
   "metadata": {},
   "outputs": [
    {
     "name": "stdout",
     "output_type": "stream",
     "text": [
      "44.787344280097905 %\n"
     ]
    }
   ],
   "source": [
    "from statistics import mean\n",
    "print(mean(score4)*100,\"%\")"
   ]
  },
  {
   "cell_type": "markdown",
   "id": "4c87f812",
   "metadata": {},
   "source": [
    "## Ensemble Technique"
   ]
  },
  {
   "cell_type": "markdown",
   "id": "c348f17e",
   "metadata": {},
   "source": [
    "### 1)Voting"
   ]
  },
  {
   "cell_type": "markdown",
   "id": "f988cd69",
   "metadata": {},
   "source": [
    "#### Voting Without Cross Validation"
   ]
  },
  {
   "cell_type": "code",
   "execution_count": 46,
   "id": "63e33416",
   "metadata": {},
   "outputs": [],
   "source": [
    "from sklearn.ensemble import VotingClassifier"
   ]
  },
  {
   "cell_type": "code",
   "execution_count": 47,
   "id": "51e65cef",
   "metadata": {},
   "outputs": [
    {
     "data": {
      "text/html": [
       "<style>#sk-container-id-5 {color: black;background-color: white;}#sk-container-id-5 pre{padding: 0;}#sk-container-id-5 div.sk-toggleable {background-color: white;}#sk-container-id-5 label.sk-toggleable__label {cursor: pointer;display: block;width: 100%;margin-bottom: 0;padding: 0.3em;box-sizing: border-box;text-align: center;}#sk-container-id-5 label.sk-toggleable__label-arrow:before {content: \"▸\";float: left;margin-right: 0.25em;color: #696969;}#sk-container-id-5 label.sk-toggleable__label-arrow:hover:before {color: black;}#sk-container-id-5 div.sk-estimator:hover label.sk-toggleable__label-arrow:before {color: black;}#sk-container-id-5 div.sk-toggleable__content {max-height: 0;max-width: 0;overflow: hidden;text-align: left;background-color: #f0f8ff;}#sk-container-id-5 div.sk-toggleable__content pre {margin: 0.2em;color: black;border-radius: 0.25em;background-color: #f0f8ff;}#sk-container-id-5 input.sk-toggleable__control:checked~div.sk-toggleable__content {max-height: 200px;max-width: 100%;overflow: auto;}#sk-container-id-5 input.sk-toggleable__control:checked~label.sk-toggleable__label-arrow:before {content: \"▾\";}#sk-container-id-5 div.sk-estimator input.sk-toggleable__control:checked~label.sk-toggleable__label {background-color: #d4ebff;}#sk-container-id-5 div.sk-label input.sk-toggleable__control:checked~label.sk-toggleable__label {background-color: #d4ebff;}#sk-container-id-5 input.sk-hidden--visually {border: 0;clip: rect(1px 1px 1px 1px);clip: rect(1px, 1px, 1px, 1px);height: 1px;margin: -1px;overflow: hidden;padding: 0;position: absolute;width: 1px;}#sk-container-id-5 div.sk-estimator {font-family: monospace;background-color: #f0f8ff;border: 1px dotted black;border-radius: 0.25em;box-sizing: border-box;margin-bottom: 0.5em;}#sk-container-id-5 div.sk-estimator:hover {background-color: #d4ebff;}#sk-container-id-5 div.sk-parallel-item::after {content: \"\";width: 100%;border-bottom: 1px solid gray;flex-grow: 1;}#sk-container-id-5 div.sk-label:hover label.sk-toggleable__label {background-color: #d4ebff;}#sk-container-id-5 div.sk-serial::before {content: \"\";position: absolute;border-left: 1px solid gray;box-sizing: border-box;top: 0;bottom: 0;left: 50%;z-index: 0;}#sk-container-id-5 div.sk-serial {display: flex;flex-direction: column;align-items: center;background-color: white;padding-right: 0.2em;padding-left: 0.2em;position: relative;}#sk-container-id-5 div.sk-item {position: relative;z-index: 1;}#sk-container-id-5 div.sk-parallel {display: flex;align-items: stretch;justify-content: center;background-color: white;position: relative;}#sk-container-id-5 div.sk-item::before, #sk-container-id-5 div.sk-parallel-item::before {content: \"\";position: absolute;border-left: 1px solid gray;box-sizing: border-box;top: 0;bottom: 0;left: 50%;z-index: -1;}#sk-container-id-5 div.sk-parallel-item {display: flex;flex-direction: column;z-index: 1;position: relative;background-color: white;}#sk-container-id-5 div.sk-parallel-item:first-child::after {align-self: flex-end;width: 50%;}#sk-container-id-5 div.sk-parallel-item:last-child::after {align-self: flex-start;width: 50%;}#sk-container-id-5 div.sk-parallel-item:only-child::after {width: 0;}#sk-container-id-5 div.sk-dashed-wrapped {border: 1px dashed gray;margin: 0 0.4em 0.5em 0.4em;box-sizing: border-box;padding-bottom: 0.4em;background-color: white;}#sk-container-id-5 div.sk-label label {font-family: monospace;font-weight: bold;display: inline-block;line-height: 1.2em;}#sk-container-id-5 div.sk-label-container {text-align: center;}#sk-container-id-5 div.sk-container {/* jupyter's `normalize.less` sets `[hidden] { display: none; }` but bootstrap.min.css set `[hidden] { display: none !important; }` so we also need the `!important` here to be able to override the default hidden behavior on the sphinx rendered scikit-learn.org. See: https://github.com/scikit-learn/scikit-learn/issues/21755 */display: inline-block !important;position: relative;}#sk-container-id-5 div.sk-text-repr-fallback {display: none;}</style><div id=\"sk-container-id-5\" class=\"sk-top-container\"><div class=\"sk-text-repr-fallback\"><pre>VotingClassifier(estimators=[(&#x27;svm&#x27;, SVC(random_state=10)),\n",
       "                             (&#x27;knn&#x27;, KNeighborsClassifier(n_neighbors=10)),\n",
       "                             (&#x27;LR&#x27;,\n",
       "                              LogisticRegression(multi_class=&#x27;multinomial&#x27;))])</pre><b>In a Jupyter environment, please rerun this cell to show the HTML representation or trust the notebook. <br />On GitHub, the HTML representation is unable to render, please try loading this page with nbviewer.org.</b></div><div class=\"sk-container\" hidden><div class=\"sk-item sk-dashed-wrapped\"><div class=\"sk-label-container\"><div class=\"sk-label sk-toggleable\"><input class=\"sk-toggleable__control sk-hidden--visually\" id=\"sk-estimator-id-5\" type=\"checkbox\" ><label for=\"sk-estimator-id-5\" class=\"sk-toggleable__label sk-toggleable__label-arrow\">VotingClassifier</label><div class=\"sk-toggleable__content\"><pre>VotingClassifier(estimators=[(&#x27;svm&#x27;, SVC(random_state=10)),\n",
       "                             (&#x27;knn&#x27;, KNeighborsClassifier(n_neighbors=10)),\n",
       "                             (&#x27;LR&#x27;,\n",
       "                              LogisticRegression(multi_class=&#x27;multinomial&#x27;))])</pre></div></div></div><div class=\"sk-parallel\"><div class=\"sk-parallel-item\"><div class=\"sk-item\"><div class=\"sk-label-container\"><div class=\"sk-label sk-toggleable\"><label>svm</label></div></div><div class=\"sk-serial\"><div class=\"sk-item\"><div class=\"sk-estimator sk-toggleable\"><input class=\"sk-toggleable__control sk-hidden--visually\" id=\"sk-estimator-id-6\" type=\"checkbox\" ><label for=\"sk-estimator-id-6\" class=\"sk-toggleable__label sk-toggleable__label-arrow\">SVC</label><div class=\"sk-toggleable__content\"><pre>SVC(random_state=10)</pre></div></div></div></div></div></div><div class=\"sk-parallel-item\"><div class=\"sk-item\"><div class=\"sk-label-container\"><div class=\"sk-label sk-toggleable\"><label>knn</label></div></div><div class=\"sk-serial\"><div class=\"sk-item\"><div class=\"sk-estimator sk-toggleable\"><input class=\"sk-toggleable__control sk-hidden--visually\" id=\"sk-estimator-id-7\" type=\"checkbox\" ><label for=\"sk-estimator-id-7\" class=\"sk-toggleable__label sk-toggleable__label-arrow\">KNeighborsClassifier</label><div class=\"sk-toggleable__content\"><pre>KNeighborsClassifier(n_neighbors=10)</pre></div></div></div></div></div></div><div class=\"sk-parallel-item\"><div class=\"sk-item\"><div class=\"sk-label-container\"><div class=\"sk-label sk-toggleable\"><label>LR</label></div></div><div class=\"sk-serial\"><div class=\"sk-item\"><div class=\"sk-estimator sk-toggleable\"><input class=\"sk-toggleable__control sk-hidden--visually\" id=\"sk-estimator-id-8\" type=\"checkbox\" ><label for=\"sk-estimator-id-8\" class=\"sk-toggleable__label sk-toggleable__label-arrow\">LogisticRegression</label><div class=\"sk-toggleable__content\"><pre>LogisticRegression(multi_class=&#x27;multinomial&#x27;)</pre></div></div></div></div></div></div></div></div></div></div>"
      ],
      "text/plain": [
       "VotingClassifier(estimators=[('svm', SVC(random_state=10)),\n",
       "                             ('knn', KNeighborsClassifier(n_neighbors=10)),\n",
       "                             ('LR',\n",
       "                              LogisticRegression(multi_class='multinomial'))])"
      ]
     },
     "execution_count": 47,
     "metadata": {},
     "output_type": "execute_result"
    }
   ],
   "source": [
    "vc=VotingClassifier(estimators=[('svm',svm),('knn',knn),('LR',lr)],voting=\"hard\")\n",
    "vc1=vc.fit(x_train,y_train)\n",
    "vc1"
   ]
  },
  {
   "cell_type": "code",
   "execution_count": 48,
   "id": "e072ae99",
   "metadata": {},
   "outputs": [
    {
     "name": "stdout",
     "output_type": "stream",
     "text": [
      "Voting Classifier: [3 8 7 ... 8 6 6]\n"
     ]
    }
   ],
   "source": [
    "y_pred5=vc1.predict(x_test)\n",
    "print(\"Voting Classifier:\",y_pred5)"
   ]
  },
  {
   "cell_type": "code",
   "execution_count": 49,
   "id": "b4531002",
   "metadata": {},
   "outputs": [
    {
     "data": {
      "text/plain": [
       "array([[796,  33,   5,   1,   0,   0],\n",
       "       [ 45, 679,  81,  29,   8,  10],\n",
       "       [ 58, 161, 496, 110,  32,  15],\n",
       "       [ 59,  77, 180, 269, 159,  86],\n",
       "       [ 19,  31,  34, 107, 420, 245],\n",
       "       [ 13,  18,  11,  33,  72, 713]], dtype=int64)"
      ]
     },
     "execution_count": 49,
     "metadata": {},
     "output_type": "execute_result"
    }
   ],
   "source": [
    "cf_matrix5 = confusion_matrix(y_test, y_pred5)\n",
    "cf_matrix5"
   ]
  },
  {
   "cell_type": "code",
   "execution_count": 50,
   "id": "0ba5a3e0",
   "metadata": {},
   "outputs": [
    {
     "name": "stdout",
     "output_type": "stream",
     "text": [
      "66.07247796278159 %\n"
     ]
    }
   ],
   "source": [
    "print(accuracy_score(y_test, y_pred5)*100,\"%\")"
   ]
  },
  {
   "cell_type": "markdown",
   "id": "57071f5f",
   "metadata": {},
   "source": [
    "#### Voting using cross Validation"
   ]
  },
  {
   "cell_type": "code",
   "execution_count": 51,
   "id": "b311a06a",
   "metadata": {},
   "outputs": [
    {
     "name": "stdout",
     "output_type": "stream",
     "text": [
      "y_train_fold Counter({7: 2553, 4: 2553, 6: 2552, 5: 2552, 8: 2552, 3: 2552})\n",
      "y_test_fold Counter({6: 284, 5: 284, 8: 284, 3: 284, 7: 283, 4: 283})\n",
      "y_pred33 Counter({3: 349, 4: 344, 8: 340, 5: 264, 7: 244, 6: 161})\n",
      "score 65.98119858989423 %\n",
      "[3 6 3 ... 8 7 8]\n",
      "y_train_fold Counter({7: 2553, 4: 2553, 6: 2552, 5: 2552, 8: 2552, 3: 2552})\n",
      "y_test_fold Counter({6: 284, 5: 284, 8: 284, 3: 284, 7: 283, 4: 283})\n",
      "y_pred33 Counter({8: 351, 4: 331, 3: 319, 5: 273, 7: 238, 6: 190})\n",
      "score 67.68507638072856 %\n",
      "[6 3 5 ... 6 8 8]\n",
      "y_train_fold Counter({5: 2553, 4: 2553, 6: 2552, 7: 2552, 8: 2552, 3: 2552})\n",
      "y_test_fold Counter({8: 284, 6: 284, 7: 284, 3: 284, 5: 283, 4: 283})\n",
      "y_pred33 Counter({4: 375, 8: 343, 3: 325, 5: 261, 7: 219, 6: 179})\n",
      "score 65.74618096357227 %\n",
      "[4 7 8 ... 8 8 8]\n",
      "y_train_fold Counter({5: 2553, 4: 2553, 6: 2552, 7: 2552, 8: 2552, 3: 2552})\n",
      "y_test_fold Counter({7: 284, 8: 284, 6: 284, 3: 284, 5: 283, 4: 283})\n",
      "y_pred33 Counter({8: 351, 3: 347, 4: 328, 5: 267, 7: 235, 6: 174})\n",
      "score 66.3924794359577 %\n",
      "[5 4 6 ... 8 8 8]\n",
      "y_train_fold Counter({5: 2553, 8: 2553, 6: 2552, 7: 2552, 4: 2552, 3: 2552})\n",
      "y_test_fold Counter({6: 284, 7: 284, 4: 284, 3: 284, 5: 283, 8: 283})\n",
      "y_pred33 Counter({8: 350, 3: 342, 4: 329, 5: 287, 7: 228, 6: 166})\n",
      "score 65.68742655699178 %\n",
      "[3 4 5 ... 8 8 7]\n",
      "y_train_fold Counter({5: 2553, 8: 2553, 6: 2552, 7: 2552, 4: 2552, 3: 2552})\n",
      "y_test_fold Counter({6: 284, 7: 284, 4: 284, 3: 284, 5: 283, 8: 283})\n",
      "y_pred33 Counter({3: 352, 8: 344, 4: 338, 5: 260, 7: 240, 6: 168})\n",
      "score 66.86251468860165 %\n",
      "[5 5 7 ... 8 8 8]\n",
      "y_train_fold Counter({6: 2553, 8: 2553, 3: 2553, 5: 2552, 7: 2552, 4: 2552})\n",
      "y_test_fold Counter({7: 284, 5: 284, 4: 284, 6: 283, 8: 283, 3: 283})\n",
      "y_pred33 Counter({8: 374, 4: 340, 3: 338, 5: 256, 7: 222, 6: 171})\n",
      "score 66.54908877131099 %\n",
      "[4 8 4 ... 8 8 8]\n",
      "y_train_fold Counter({6: 2553, 8: 2553, 3: 2553, 5: 2552, 7: 2552, 4: 2552})\n",
      "y_test_fold Counter({5: 284, 7: 284, 4: 284, 6: 283, 8: 283, 3: 283})\n",
      "y_pred33 Counter({8: 343, 4: 339, 3: 335, 5: 268, 7: 227, 6: 189})\n",
      "score 67.25455614344503 %\n",
      "[4 3 5 ... 8 8 8]\n",
      "y_train_fold Counter({6: 2553, 7: 2553, 3: 2553, 5: 2552, 8: 2552, 4: 2552})\n",
      "y_test_fold Counter({5: 284, 8: 284, 4: 284, 6: 283, 7: 283, 3: 283})\n",
      "y_pred33 Counter({8: 370, 4: 355, 3: 324, 5: 257, 7: 216, 6: 179})\n",
      "score 66.84303350970018 %\n",
      "[5 4 5 ... 8 7 8]\n",
      "y_train_fold Counter({6: 2553, 7: 2553, 3: 2553, 5: 2552, 8: 2552, 4: 2552})\n",
      "y_test_fold Counter({4: 284, 5: 284, 8: 284, 6: 283, 7: 283, 3: 283})\n",
      "y_pred33 Counter({8: 364, 3: 333, 4: 329, 5: 265, 7: 236, 6: 174})\n",
      "score 69.01822457378013 %\n",
      "[3 5 5 ... 8 8 8]\n"
     ]
    }
   ],
   "source": [
    "score5 = []\n",
    "for train_index, test_index in skf.split(x_data1, y_data):\n",
    "    x_train_fold, x_test_fold = x_data1[train_index], x_data1[test_index]\n",
    "    y_train_fold, y_test_fold = y_data[train_index], y_data[test_index]\n",
    "    vc.fit(x_train_fold, y_train_fold)\n",
    "    y_pred55=vc.predict(x_test_fold)\n",
    "    #y_pred44=np.round(y_pred444)\n",
    "    score55=accuracy_score(y_pred55, y_test_fold)\n",
    "    score5.append(score55)\n",
    "    print(\"y_train_fold\",Counter(y_train_fold))\n",
    "    print(\"y_test_fold\",Counter(y_test_fold))\n",
    "    print(\"y_pred33\",Counter(y_pred55))\n",
    "    print(\"score\",(score55)*100,\"%\")\n",
    "    print(y_pred55)"
   ]
  },
  {
   "cell_type": "code",
   "execution_count": 52,
   "id": "41e5a39b",
   "metadata": {},
   "outputs": [
    {
     "name": "stdout",
     "output_type": "stream",
     "text": [
      "66.80197796139825 %\n"
     ]
    }
   ],
   "source": [
    "from statistics import mean\n",
    "print(mean(score5)*100,\"%\")"
   ]
  },
  {
   "cell_type": "markdown",
   "id": "2808a3eb",
   "metadata": {},
   "source": [
    "### 2) Bagging "
   ]
  },
  {
   "cell_type": "markdown",
   "id": "b26bffdd",
   "metadata": {},
   "source": [
    "#### Bagging using cross validation"
   ]
  },
  {
   "cell_type": "code",
   "execution_count": null,
   "id": "ec2db2a9",
   "metadata": {},
   "outputs": [
    {
     "name": "stdout",
     "output_type": "stream",
     "text": [
      "y_train_fold Counter({7: 2553, 4: 2553, 6: 2552, 5: 2552, 8: 2552, 3: 2552})\n",
      "y_test_fold Counter({6: 284, 5: 284, 8: 284, 3: 284, 7: 283, 4: 283})\n",
      "y_pred33 Counter({8: 355, 4: 348, 3: 321, 7: 296, 5: 235, 6: 147})\n",
      "score 73.79553466509988 %\n",
      "[3 4 3 ... 8 8 8]\n",
      "y_train_fold Counter({7: 2553, 4: 2553, 6: 2552, 5: 2552, 8: 2552, 3: 2552})\n",
      "y_test_fold Counter({6: 284, 5: 284, 8: 284, 3: 284, 7: 283, 4: 283})\n",
      "y_pred33 Counter({8: 354, 4: 347, 3: 313, 7: 279, 5: 233, 6: 176})\n",
      "score 75.26439482961223 %\n",
      "[6 7 5 ... 8 8 8]\n"
     ]
    }
   ],
   "source": [
    "from sklearn.ensemble import BaggingClassifier\n",
    "from sklearn.ensemble import RandomForestRegressor\n",
    "from sklearn.neighbors import KNeighborsClassifier\n",
    "\n",
    "knn=KNeighborsClassifier(n_neighbors = 10, metric = 'minkowski', p = 2)\n",
    "bg=BaggingClassifier(base_estimator=knn,n_estimators=5,random_state=10)\n",
    "\n",
    "score6 = []\n",
    "for train_index, test_index in skf.split(x_data1, y_data):\n",
    "    x_train_fold, x_test_fold = x_data1[train_index], x_data1[test_index]\n",
    "    y_train_fold, y_test_fold = y_data[train_index], y_data[test_index]\n",
    "    bg.fit(x_train_fold, y_train_fold)\n",
    "    y_pred666=bg.predict(x_test_fold)\n",
    "    y_pred66=np.round(y_pred666)\n",
    "    score66=accuracy_score(y_pred66, y_test_fold)\n",
    "    score6.append(score66)\n",
    "    print(\"y_train_fold\",Counter(y_train_fold))\n",
    "    print(\"y_test_fold\",Counter(y_test_fold))\n",
    "    print(\"y_pred33\",Counter(y_pred66))\n",
    "    print(\"score\",(score66)*100,\"%\")\n",
    "    print(y_pred66)"
   ]
  },
  {
   "cell_type": "code",
   "execution_count": null,
   "id": "cf910aaf",
   "metadata": {},
   "outputs": [],
   "source": [
    "from statistics import mean\n",
    "print(mean(score6)*100,\"%\")"
   ]
  },
  {
   "cell_type": "code",
   "execution_count": null,
   "id": "1fc6cb38",
   "metadata": {},
   "outputs": [],
   "source": []
  }
 ],
 "metadata": {
  "kernelspec": {
   "display_name": "Python 3 (ipykernel)",
   "language": "python",
   "name": "python3"
  },
  "language_info": {
   "codemirror_mode": {
    "name": "ipython",
    "version": 3
   },
   "file_extension": ".py",
   "mimetype": "text/x-python",
   "name": "python",
   "nbconvert_exporter": "python",
   "pygments_lexer": "ipython3",
   "version": "3.9.6"
  }
 },
 "nbformat": 4,
 "nbformat_minor": 5
}
